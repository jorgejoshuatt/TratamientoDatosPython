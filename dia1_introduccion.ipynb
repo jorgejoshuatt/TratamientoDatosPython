{
  "nbformat": 4,
  "nbformat_minor": 0,
  "metadata": {
    "colab": {
      "name": "dia1_introduccion.ipynb",
      "provenance": [],
      "authorship_tag": "ABX9TyPF01hrA9Gltg+/6nMUdol8",
      "include_colab_link": true
    },
    "kernelspec": {
      "name": "python3",
      "display_name": "Python 3"
    },
    "language_info": {
      "name": "python"
    }
  },
  "cells": [
    {
      "cell_type": "markdown",
      "metadata": {
        "id": "view-in-github",
        "colab_type": "text"
      },
      "source": [
        "<a href=\"https://colab.research.google.com/github/jorgejoshuatt/TratamientoDatosPython/blob/main/dia1_introduccion.ipynb\" target=\"_parent\"><img src=\"https://colab.research.google.com/assets/colab-badge.svg\" alt=\"Open In Colab\"/></a>"
      ]
    },
    {
      "cell_type": "markdown",
      "source": [
        "**Tratamiento de datos con python**\n",
        "\n",
        "<ins>*FES ARAGÓN*</ins>\n",
        "\n",
        "###Curso\n",
        "####ICO\n",
        "######Tratamiento de datos"
      ],
      "metadata": {
        "id": "O__Y9YsniigA"
      }
    },
    {
      "cell_type": "code",
      "source": [
        "#Serie de Fibonacci\n",
        "a=0\n",
        "print(a)\n",
        "b=1\n",
        "print(b)\n",
        "\n",
        "for _ in range(12):\n",
        "  r=a+b\n",
        "  a=b\n",
        "  b=r\n",
        "  print(r)"
      ],
      "metadata": {
        "colab": {
          "base_uri": "https://localhost:8080/"
        },
        "id": "uN9kgwv9jAHV",
        "outputId": "0d91fa57-495b-4613-a520-c90cb69624ac"
      },
      "execution_count": null,
      "outputs": [
        {
          "output_type": "stream",
          "name": "stdout",
          "text": [
            "0\n",
            "1\n",
            "1\n",
            "2\n",
            "3\n",
            "5\n",
            "8\n",
            "13\n",
            "21\n",
            "34\n",
            "55\n",
            "89\n",
            "144\n",
            "233\n"
          ]
        }
      ]
    },
    {
      "cell_type": "code",
      "source": [
        "palabra='Datos'\n",
        "for letra in palabra:\n",
        "  print(letra)\n",
        "  if letra=='t':\n",
        "    break"
      ],
      "metadata": {
        "colab": {
          "base_uri": "https://localhost:8080/"
        },
        "id": "LuRZAxT-j8G4",
        "outputId": "e3aea9a5-5818-4212-803c-26d133c68530"
      },
      "execution_count": null,
      "outputs": [
        {
          "output_type": "stream",
          "name": "stdout",
          "text": [
            "D\n",
            "a\n",
            "t\n"
          ]
        }
      ]
    },
    {
      "cell_type": "code",
      "source": [
        "#Ciclos anidados\n",
        "for i in range(1,11):\n",
        "  print(f'\\nTabla del {i}')\n",
        "  for j in range(1,11):\n",
        "    r=i*j\n",
        "    print(f'{i}*{j}={r}')"
      ],
      "metadata": {
        "colab": {
          "base_uri": "https://localhost:8080/"
        },
        "id": "44rPXZ_HkdbW",
        "outputId": "ba700554-2c8c-4384-ae7e-14dae45fa91c"
      },
      "execution_count": null,
      "outputs": [
        {
          "output_type": "stream",
          "name": "stdout",
          "text": [
            "\n",
            "Tabla del 1\n",
            "1*1=1\n",
            "1*2=2\n",
            "1*3=3\n",
            "1*4=4\n",
            "1*5=5\n",
            "1*6=6\n",
            "1*7=7\n",
            "1*8=8\n",
            "1*9=9\n",
            "1*10=10\n",
            "\n",
            "Tabla del 2\n",
            "2*1=2\n",
            "2*2=4\n",
            "2*3=6\n",
            "2*4=8\n",
            "2*5=10\n",
            "2*6=12\n",
            "2*7=14\n",
            "2*8=16\n",
            "2*9=18\n",
            "2*10=20\n",
            "\n",
            "Tabla del 3\n",
            "3*1=3\n",
            "3*2=6\n",
            "3*3=9\n",
            "3*4=12\n",
            "3*5=15\n",
            "3*6=18\n",
            "3*7=21\n",
            "3*8=24\n",
            "3*9=27\n",
            "3*10=30\n",
            "\n",
            "Tabla del 4\n",
            "4*1=4\n",
            "4*2=8\n",
            "4*3=12\n",
            "4*4=16\n",
            "4*5=20\n",
            "4*6=24\n",
            "4*7=28\n",
            "4*8=32\n",
            "4*9=36\n",
            "4*10=40\n",
            "\n",
            "Tabla del 5\n",
            "5*1=5\n",
            "5*2=10\n",
            "5*3=15\n",
            "5*4=20\n",
            "5*5=25\n",
            "5*6=30\n",
            "5*7=35\n",
            "5*8=40\n",
            "5*9=45\n",
            "5*10=50\n",
            "\n",
            "Tabla del 6\n",
            "6*1=6\n",
            "6*2=12\n",
            "6*3=18\n",
            "6*4=24\n",
            "6*5=30\n",
            "6*6=36\n",
            "6*7=42\n",
            "6*8=48\n",
            "6*9=54\n",
            "6*10=60\n",
            "\n",
            "Tabla del 7\n",
            "7*1=7\n",
            "7*2=14\n",
            "7*3=21\n",
            "7*4=28\n",
            "7*5=35\n",
            "7*6=42\n",
            "7*7=49\n",
            "7*8=56\n",
            "7*9=63\n",
            "7*10=70\n",
            "\n",
            "Tabla del 8\n",
            "8*1=8\n",
            "8*2=16\n",
            "8*3=24\n",
            "8*4=32\n",
            "8*5=40\n",
            "8*6=48\n",
            "8*7=56\n",
            "8*8=64\n",
            "8*9=72\n",
            "8*10=80\n",
            "\n",
            "Tabla del 9\n",
            "9*1=9\n",
            "9*2=18\n",
            "9*3=27\n",
            "9*4=36\n",
            "9*5=45\n",
            "9*6=54\n",
            "9*7=63\n",
            "9*8=72\n",
            "9*9=81\n",
            "9*10=90\n",
            "\n",
            "Tabla del 10\n",
            "10*1=10\n",
            "10*2=20\n",
            "10*3=30\n",
            "10*4=40\n",
            "10*5=50\n",
            "10*6=60\n",
            "10*7=70\n",
            "10*8=80\n",
            "10*9=90\n",
            "10*10=100\n"
          ]
        }
      ]
    },
    {
      "cell_type": "code",
      "source": [
        "vocales='aeiou'\n",
        "frase='supercAlifragilisticoespialidoso'\n",
        "\n",
        "num_vocales=0\n",
        "\n",
        "for letra in frase.lower():\n",
        "  if letra in vocales:\n",
        "    num_vocales+=1\n",
        "\n",
        "print(num_vocales)"
      ],
      "metadata": {
        "colab": {
          "base_uri": "https://localhost:8080/"
        },
        "id": "KFpSS1GDla4f",
        "outputId": "02047e31-e153-44a6-9133-02c3e50539f8"
      },
      "execution_count": null,
      "outputs": [
        {
          "output_type": "stream",
          "name": "stdout",
          "text": [
            "15\n"
          ]
        }
      ]
    },
    {
      "cell_type": "code",
      "source": [
        "#Listas\n",
        "\n",
        "compra=['Agua','Huevos','Aceite','Sal','Limón']\n",
        "detalle=['mineral natural','organicos','de oliva virgen','de mar','verde']\n",
        "\n",
        "for producto in compra:\n",
        "  print(producto)\n",
        "\n",
        "#Enumera\n",
        "for i, producto in enumerate(compra):\n",
        "  print(i,producto)\n",
        "\n",
        "#zip\n",
        "for producto, detail in zip(compra,detalle):\n",
        "  print(producto,detail)\n",
        "\n",
        "print(list(zip(compra,detalle)))"
      ],
      "metadata": {
        "colab": {
          "base_uri": "https://localhost:8080/"
        },
        "id": "tRNQFTyEmYZA",
        "outputId": "c743ef6e-8bec-48de-a218-0c10114d699c"
      },
      "execution_count": null,
      "outputs": [
        {
          "output_type": "stream",
          "name": "stdout",
          "text": [
            "Agua\n",
            "Huevos\n",
            "Aceite\n",
            "Sal\n",
            "Limón\n",
            "0 Agua\n",
            "1 Huevos\n",
            "2 Aceite\n",
            "3 Sal\n",
            "4 Limón\n",
            "Agua mineral natural\n",
            "Huevos organicos\n",
            "Aceite de oliva virgen\n",
            "Sal de mar\n",
            "Limón verde\n",
            "[('Agua', 'mineral natural'), ('Huevos', 'organicos'), ('Aceite', 'de oliva virgen'), ('Sal', 'de mar'), ('Limón', 'verde')]\n"
          ]
        }
      ]
    },
    {
      "cell_type": "code",
      "source": [
        "valores='32,45,11,87,20,48'\n",
        "lista_valores=[]\n",
        "for valor in valores.split(','):\n",
        "  lista_valores.append(int(valor))\n",
        "\n",
        "print(lista_valores)"
      ],
      "metadata": {
        "colab": {
          "base_uri": "https://localhost:8080/"
        },
        "id": "1olKD2Dmn3FX",
        "outputId": "dcfec505-d948-4b22-e49e-817232613b62"
      },
      "execution_count": null,
      "outputs": [
        {
          "output_type": "stream",
          "name": "stdout",
          "text": [
            "[32, 45, 11, 87, 20, 48]\n"
          ]
        }
      ]
    },
    {
      "cell_type": "code",
      "source": [
        "lista_enteros=[int(valor) for valor in valores.split(',')]\n",
        "print(lista_enteros)"
      ],
      "metadata": {
        "colab": {
          "base_uri": "https://localhost:8080/"
        },
        "id": "arOxC37Vot-c",
        "outputId": "45055c43-402a-45c9-8c13-437d4928ad61"
      },
      "execution_count": null,
      "outputs": [
        {
          "output_type": "stream",
          "name": "stdout",
          "text": [
            "[32, 45, 11, 87, 20, 48]\n"
          ]
        }
      ]
    },
    {
      "cell_type": "code",
      "source": [
        "lista=['pan','jamon',100,123.45]\n",
        "print(lista)\n",
        "print(lista[0])\n",
        "print(lista[3])\n",
        "print(lista[-1])\n",
        "print(lista[-3])"
      ],
      "metadata": {
        "colab": {
          "base_uri": "https://localhost:8080/"
        },
        "id": "28UUkagQpEBF",
        "outputId": "41deb9c4-f4e8-45e2-ade5-4a67637c72db"
      },
      "execution_count": null,
      "outputs": [
        {
          "output_type": "stream",
          "name": "stdout",
          "text": [
            "['pan', 'jamon', 100, 123.45]\n",
            "pan\n",
            "123.45\n",
            "123.45\n",
            "jamon\n"
          ]
        }
      ]
    },
    {
      "cell_type": "code",
      "source": [
        "lista.append('jugo')"
      ],
      "metadata": {
        "id": "0nHw2S_dpwKy"
      },
      "execution_count": null,
      "outputs": []
    },
    {
      "cell_type": "code",
      "source": [
        "lista"
      ],
      "metadata": {
        "colab": {
          "base_uri": "https://localhost:8080/"
        },
        "id": "0XBnTq6dp0RI",
        "outputId": "1765a0d5-24c0-4495-880c-138abe496c29"
      },
      "execution_count": null,
      "outputs": [
        {
          "output_type": "execute_result",
          "data": {
            "text/plain": [
              "['pan', 'jamon', 100, 123.45, 'jugo']"
            ]
          },
          "metadata": {},
          "execution_count": 18
        }
      ]
    },
    {
      "cell_type": "code",
      "source": [
        "lista.count(100)"
      ],
      "metadata": {
        "colab": {
          "base_uri": "https://localhost:8080/"
        },
        "id": "9Av9_885p26w",
        "outputId": "2c316abf-9676-450f-c284-7ac3aefc4383"
      },
      "execution_count": null,
      "outputs": [
        {
          "output_type": "execute_result",
          "data": {
            "text/plain": [
              "1"
            ]
          },
          "metadata": {},
          "execution_count": 19
        }
      ]
    },
    {
      "cell_type": "code",
      "source": [
        "lista.extend([40,'cebolla',10])\n",
        "lista"
      ],
      "metadata": {
        "colab": {
          "base_uri": "https://localhost:8080/"
        },
        "id": "jinYpjGQqAwD",
        "outputId": "13c1445c-dcb0-472c-f0d5-c641ca097fe4"
      },
      "execution_count": null,
      "outputs": [
        {
          "output_type": "execute_result",
          "data": {
            "text/plain": [
              "['pan', 'jamon', 100, 123.45, 'jugo', 40, 'cebolla', 10]"
            ]
          },
          "metadata": {},
          "execution_count": 20
        }
      ]
    },
    {
      "cell_type": "code",
      "source": [
        "lista.append(['tocino',90])\n",
        "lista"
      ],
      "metadata": {
        "colab": {
          "base_uri": "https://localhost:8080/"
        },
        "id": "FfkUkYghqOqH",
        "outputId": "d8bd9b78-eaf4-4003-d3fa-50eb4c001646"
      },
      "execution_count": null,
      "outputs": [
        {
          "output_type": "execute_result",
          "data": {
            "text/plain": [
              "['pan', 'jamon', 100, 123.45, 'jugo', 40, 'cebolla', 10, ['tocino', 90]]"
            ]
          },
          "metadata": {},
          "execution_count": 21
        }
      ]
    },
    {
      "cell_type": "code",
      "source": [
        "lista.extend(range(500,505))\n",
        "lista"
      ],
      "metadata": {
        "colab": {
          "base_uri": "https://localhost:8080/"
        },
        "id": "tlC2diWpqhgp",
        "outputId": "f2aef9d6-65f3-408f-d9b9-e563fe41ced7"
      },
      "execution_count": null,
      "outputs": [
        {
          "output_type": "execute_result",
          "data": {
            "text/plain": [
              "['pan',\n",
              " 'jamon',\n",
              " 100,\n",
              " 123.45,\n",
              " 'jugo',\n",
              " 40,\n",
              " 'cebolla',\n",
              " 10,\n",
              " ['tocino', 90],\n",
              " 500,\n",
              " 501,\n",
              " 502,\n",
              " 503,\n",
              " 504]"
            ]
          },
          "metadata": {},
          "execution_count": 22
        }
      ]
    },
    {
      "cell_type": "code",
      "source": [
        "lista.index(500)"
      ],
      "metadata": {
        "colab": {
          "base_uri": "https://localhost:8080/"
        },
        "id": "zPrUyBfwq3E3",
        "outputId": "0bbc8e57-3c24-4ce9-ce2b-6adb793062d9"
      },
      "execution_count": null,
      "outputs": [
        {
          "output_type": "execute_result",
          "data": {
            "text/plain": [
              "9"
            ]
          },
          "metadata": {},
          "execution_count": 23
        }
      ]
    },
    {
      "cell_type": "code",
      "source": [
        "lista.insert(3,'mostaza')\n",
        "lista"
      ],
      "metadata": {
        "id": "QMf9hZiHrTUv"
      },
      "execution_count": null,
      "outputs": []
    },
    {
      "cell_type": "code",
      "source": [
        "lista[0]='pan integral'\n",
        "lista"
      ],
      "metadata": {
        "colab": {
          "base_uri": "https://localhost:8080/"
        },
        "id": "4Az2giV3raaB",
        "outputId": "a5fe2ec5-0442-46a5-ff06-aaee1e7886ad"
      },
      "execution_count": null,
      "outputs": [
        {
          "output_type": "execute_result",
          "data": {
            "text/plain": [
              "['pan integral',\n",
              " 'jamon',\n",
              " 100,\n",
              " 'mostaza',\n",
              " 123.45,\n",
              " 'jugo',\n",
              " 40,\n",
              " 'cebolla',\n",
              " 10,\n",
              " ['tocino', 90],\n",
              " 500,\n",
              " 501,\n",
              " 502,\n",
              " 503,\n",
              " 504]"
            ]
          },
          "metadata": {},
          "execution_count": 25
        }
      ]
    },
    {
      "cell_type": "code",
      "source": [
        "lista[:]"
      ],
      "metadata": {
        "colab": {
          "base_uri": "https://localhost:8080/"
        },
        "id": "DbuW_CEmr0qo",
        "outputId": "39416890-9448-4d43-ee63-288a8b43eb4c"
      },
      "execution_count": null,
      "outputs": [
        {
          "output_type": "execute_result",
          "data": {
            "text/plain": [
              "['pan integral',\n",
              " 'jamon',\n",
              " 100,\n",
              " 'mostaza',\n",
              " 123.45,\n",
              " 'jugo',\n",
              " 40,\n",
              " 'cebolla',\n",
              " 10,\n",
              " ['tocino', 90],\n",
              " 500,\n",
              " 501,\n",
              " 502,\n",
              " 503,\n",
              " 504]"
            ]
          },
          "metadata": {},
          "execution_count": 26
        }
      ]
    },
    {
      "cell_type": "code",
      "source": [
        "lista[::-1]"
      ],
      "metadata": {
        "colab": {
          "base_uri": "https://localhost:8080/"
        },
        "id": "LqWilvtAr5Px",
        "outputId": "038cc883-c277-4cad-9ceb-e522b9777d97"
      },
      "execution_count": null,
      "outputs": [
        {
          "output_type": "execute_result",
          "data": {
            "text/plain": [
              "[504,\n",
              " 503,\n",
              " 502,\n",
              " 501,\n",
              " 500,\n",
              " ['tocino', 90],\n",
              " 10,\n",
              " 'cebolla',\n",
              " 40,\n",
              " 'jugo',\n",
              " 123.45,\n",
              " 'mostaza',\n",
              " 100,\n",
              " 'jamon',\n",
              " 'pan integral']"
            ]
          },
          "metadata": {},
          "execution_count": 27
        }
      ]
    },
    {
      "cell_type": "code",
      "source": [
        "#Crear un alias de lista\n",
        "lista2=lista\n",
        "\n",
        "print(lista)\n",
        "print(lista2)"
      ],
      "metadata": {
        "colab": {
          "base_uri": "https://localhost:8080/"
        },
        "id": "IKAKUi-csVEs",
        "outputId": "e02fdf80-6030-4435-9ec2-f9124c9d22e1"
      },
      "execution_count": null,
      "outputs": [
        {
          "output_type": "stream",
          "name": "stdout",
          "text": [
            "['pan integral', 'jamon', 100, 'mostaza', 123.45, 'jugo', 40, 'cebolla', 10, ['tocino', 90], 500, 501, 502, 503, 504]\n",
            "['pan integral', 'jamon', 100, 'mostaza', 123.45, 'jugo', 40, 'cebolla', 10, ['tocino', 90], 500, 501, 502, 503, 504]\n"
          ]
        }
      ]
    },
    {
      "cell_type": "code",
      "source": [
        "lista[1]='tocino'\n",
        "print(lista)\n",
        "print(lista2)"
      ],
      "metadata": {
        "colab": {
          "base_uri": "https://localhost:8080/"
        },
        "id": "2TU8ADA8spW1",
        "outputId": "cd0394f6-8dfa-404e-acf7-9a707bfc3f25"
      },
      "execution_count": null,
      "outputs": [
        {
          "output_type": "stream",
          "name": "stdout",
          "text": [
            "['pan integral', 'tocino', 100, 'mostaza', 123.45, 'jugo', 40, 'cebolla', 10, ['tocino', 90], 500, 501, 502, 503, 504]\n",
            "['pan integral', 'tocino', 100, 'mostaza', 123.45, 'jugo', 40, 'cebolla', 10, ['tocino', 90], 500, 501, 502, 503, 504]\n"
          ]
        }
      ]
    },
    {
      "cell_type": "code",
      "source": [
        "lista2[3]='mayonesa'\n",
        "print(lista)\n",
        "print(lista2)"
      ],
      "metadata": {
        "colab": {
          "base_uri": "https://localhost:8080/"
        },
        "id": "5wSeOwUss19U",
        "outputId": "e02915b8-bb62-4d46-e213-9c0f8c8987de"
      },
      "execution_count": null,
      "outputs": [
        {
          "output_type": "stream",
          "name": "stdout",
          "text": [
            "['pan integral', 'tocino', 100, 'mayonesa', 123.45, 'jugo', 40, 'cebolla', 10, ['tocino', 90], 500, 501, 502, 503, 504]\n",
            "['pan integral', 'tocino', 100, 'mayonesa', 123.45, 'jugo', 40, 'cebolla', 10, ['tocino', 90], 500, 501, 502, 503, 504]\n"
          ]
        }
      ]
    },
    {
      "cell_type": "code",
      "source": [
        "#Crear una copia\n",
        "lista3=lista[:]\n",
        "print(lista)\n",
        "print(lista3)"
      ],
      "metadata": {
        "colab": {
          "base_uri": "https://localhost:8080/"
        },
        "id": "jsUL5WPfs-T5",
        "outputId": "6ed369ff-d807-4d0f-de1f-97613eae42e3"
      },
      "execution_count": null,
      "outputs": [
        {
          "output_type": "stream",
          "name": "stdout",
          "text": [
            "['pan integral', 'tocino', 100, 'mayonesa', 123.45, 'jugo', 40, 'cebolla', 10, ['tocino', 90], 500, 501, 502, 503, 504]\n",
            "['pan integral', 'tocino', 100, 'mayonesa', 123.45, 'jugo', 40, 'cebolla', 10, ['tocino', 90], 500, 501, 502, 503, 504]\n"
          ]
        }
      ]
    },
    {
      "cell_type": "code",
      "source": [
        "lista[5]='agua'\n",
        "print(lista)\n",
        "print(lista2)\n",
        "print(lista3)"
      ],
      "metadata": {
        "colab": {
          "base_uri": "https://localhost:8080/"
        },
        "id": "rzi1wyBRthSn",
        "outputId": "78aa5304-3a9f-461f-af13-6dc294a336c1"
      },
      "execution_count": null,
      "outputs": [
        {
          "output_type": "stream",
          "name": "stdout",
          "text": [
            "['pan integral', 'tocino', 100, 'mayonesa', 123.45, 'agua', 40, 'cebolla', 10, ['tocino', 90], 500, 501, 502, 503, 504]\n",
            "['pan integral', 'tocino', 100, 'mayonesa', 123.45, 'agua', 40, 'cebolla', 10, ['tocino', 90], 500, 501, 502, 503, 504]\n",
            "['pan integral', 'tocino', 100, 'mayonesa', 123.45, 'jugo', 40, 'cebolla', 10, ['tocino', 90], 500, 501, 502, 503, 504]\n"
          ]
        }
      ]
    },
    {
      "cell_type": "code",
      "source": [
        "lista4=lista+lista3\n",
        "lista4"
      ],
      "metadata": {
        "colab": {
          "base_uri": "https://localhost:8080/"
        },
        "id": "3037mkF_trKj",
        "outputId": "6233e03a-58d1-4e9e-bb32-5cd5aff42f18"
      },
      "execution_count": null,
      "outputs": [
        {
          "output_type": "execute_result",
          "data": {
            "text/plain": [
              "['pan integral',\n",
              " 'tocino',\n",
              " 100,\n",
              " 'mayonesa',\n",
              " 123.45,\n",
              " 'agua',\n",
              " 40,\n",
              " 'cebolla',\n",
              " 10,\n",
              " ['tocino', 90],\n",
              " 500,\n",
              " 501,\n",
              " 502,\n",
              " 503,\n",
              " 504,\n",
              " 'pan integral',\n",
              " 'tocino',\n",
              " 100,\n",
              " 'mayonesa',\n",
              " 123.45,\n",
              " 'jugo',\n",
              " 40,\n",
              " 'cebolla',\n",
              " 10,\n",
              " ['tocino', 90],\n",
              " 500,\n",
              " 501,\n",
              " 502,\n",
              " 503,\n",
              " 504]"
            ]
          },
          "metadata": {},
          "execution_count": 34
        }
      ]
    },
    {
      "cell_type": "code",
      "source": [
        "#Pop mostrar el ultimo elemento de una lista\n",
        "lista4.pop()"
      ],
      "metadata": {
        "colab": {
          "base_uri": "https://localhost:8080/"
        },
        "id": "YMhqMxpmxpYb",
        "outputId": "6fa27ec8-a2cb-4b60-9df4-45892cce20bc"
      },
      "execution_count": null,
      "outputs": [
        {
          "output_type": "execute_result",
          "data": {
            "text/plain": [
              "504"
            ]
          },
          "metadata": {},
          "execution_count": 62
        }
      ]
    },
    {
      "cell_type": "code",
      "source": [
        "lista4"
      ],
      "metadata": {
        "colab": {
          "base_uri": "https://localhost:8080/"
        },
        "id": "k7eatKyZxv38",
        "outputId": "b5b5bb28-1bdc-4172-d6ac-a950ca09d959"
      },
      "execution_count": null,
      "outputs": [
        {
          "output_type": "execute_result",
          "data": {
            "text/plain": [
              "['pan integral',\n",
              " 'tocino',\n",
              " 100,\n",
              " 'mayonesa',\n",
              " 123.45,\n",
              " 'agua',\n",
              " 40,\n",
              " 'cebolla',\n",
              " 10,\n",
              " ['tocino', 90],\n",
              " 500,\n",
              " 501,\n",
              " 502,\n",
              " 503,\n",
              " 504,\n",
              " 'pan integral',\n",
              " 'tocino',\n",
              " 100,\n",
              " 'mayonesa',\n",
              " 123.45,\n",
              " 'jugo',\n",
              " 40,\n",
              " 'cebolla',\n",
              " 10,\n",
              " ['tocino', 90],\n",
              " 500,\n",
              " 501,\n",
              " 502,\n",
              " 503]"
            ]
          },
          "metadata": {},
          "execution_count": 63
        }
      ]
    },
    {
      "cell_type": "code",
      "source": [
        "lista4.pop(1)"
      ],
      "metadata": {
        "colab": {
          "base_uri": "https://localhost:8080/",
          "height": 35
        },
        "id": "LXs2xkVIx6bF",
        "outputId": "a8c884f9-d8a3-494c-ef80-3c56183c2550"
      },
      "execution_count": null,
      "outputs": [
        {
          "output_type": "execute_result",
          "data": {
            "text/plain": [
              "'tocino'"
            ],
            "application/vnd.google.colaboratory.intrinsic+json": {
              "type": "string"
            }
          },
          "metadata": {},
          "execution_count": 64
        }
      ]
    },
    {
      "cell_type": "code",
      "source": [
        "lista4"
      ],
      "metadata": {
        "colab": {
          "base_uri": "https://localhost:8080/"
        },
        "id": "7beX2r_vx_bn",
        "outputId": "0b3e418c-01bc-42cd-c30a-c4a7284ad2a7"
      },
      "execution_count": null,
      "outputs": [
        {
          "output_type": "execute_result",
          "data": {
            "text/plain": [
              "['pan integral',\n",
              " 100,\n",
              " 'mayonesa',\n",
              " 123.45,\n",
              " 'agua',\n",
              " 40,\n",
              " 'cebolla',\n",
              " 10,\n",
              " ['tocino', 90],\n",
              " 500,\n",
              " 501,\n",
              " 502,\n",
              " 503,\n",
              " 504,\n",
              " 'pan integral',\n",
              " 'tocino',\n",
              " 100,\n",
              " 'mayonesa',\n",
              " 123.45,\n",
              " 'jugo',\n",
              " 40,\n",
              " 'cebolla',\n",
              " 10,\n",
              " ['tocino', 90],\n",
              " 500,\n",
              " 501,\n",
              " 502,\n",
              " 503]"
            ]
          },
          "metadata": {},
          "execution_count": 65
        }
      ]
    },
    {
      "cell_type": "code",
      "source": [
        "lista4.remove(100)"
      ],
      "metadata": {
        "id": "74hi60PVyo2n"
      },
      "execution_count": null,
      "outputs": []
    },
    {
      "cell_type": "code",
      "source": [
        "lista4"
      ],
      "metadata": {
        "colab": {
          "base_uri": "https://localhost:8080/"
        },
        "id": "8fjYqi4IysDe",
        "outputId": "9889e2ce-661f-4faf-baed-ac36e62fcfa3"
      },
      "execution_count": null,
      "outputs": [
        {
          "output_type": "execute_result",
          "data": {
            "text/plain": [
              "['pan integral',\n",
              " 'mayonesa',\n",
              " 123.45,\n",
              " 'agua',\n",
              " 40,\n",
              " 'cebolla',\n",
              " 10,\n",
              " ['tocino', 90],\n",
              " 500,\n",
              " 501,\n",
              " 502,\n",
              " 503,\n",
              " 504,\n",
              " 'pan integral',\n",
              " 'tocino',\n",
              " 100,\n",
              " 'mayonesa',\n",
              " 123.45,\n",
              " 'jugo',\n",
              " 40,\n",
              " 'cebolla',\n",
              " 10,\n",
              " ['tocino', 90],\n",
              " 500,\n",
              " 501,\n",
              " 502,\n",
              " 503]"
            ]
          },
          "metadata": {},
          "execution_count": 67
        }
      ]
    },
    {
      "cell_type": "code",
      "source": [
        "for n in range(4,9):\n",
        "  lista4.pop(n)\n",
        "lista4"
      ],
      "metadata": {
        "colab": {
          "base_uri": "https://localhost:8080/"
        },
        "id": "9nmCQM5DzcBw",
        "outputId": "0b449e4c-eb4f-4dfd-c62a-dbc157cd3d13"
      },
      "execution_count": null,
      "outputs": [
        {
          "output_type": "execute_result",
          "data": {
            "text/plain": [
              "['pan integral',\n",
              " 'mayonesa',\n",
              " 123.45,\n",
              " 'agua',\n",
              " 'cebolla',\n",
              " ['tocino', 90],\n",
              " 501,\n",
              " 503,\n",
              " 'pan integral',\n",
              " 'tocino',\n",
              " 100,\n",
              " 'mayonesa',\n",
              " 123.45,\n",
              " 'jugo',\n",
              " 40,\n",
              " 'cebolla',\n",
              " 10,\n",
              " ['tocino', 90],\n",
              " 500,\n",
              " 501,\n",
              " 502,\n",
              " 503]"
            ]
          },
          "metadata": {},
          "execution_count": 68
        }
      ]
    },
    {
      "cell_type": "code",
      "source": [
        "lista_cursos=['Python','Ciencia de datos','Big data','Python','Base de datos']\n",
        "lista_cursos"
      ],
      "metadata": {
        "colab": {
          "base_uri": "https://localhost:8080/"
        },
        "id": "myd275XTtv5x",
        "outputId": "2b871915-ac11-4f0e-a29c-cc65e62e11e7"
      },
      "execution_count": null,
      "outputs": [
        {
          "output_type": "execute_result",
          "data": {
            "text/plain": [
              "['Python', 'Ciencia de datos', 'Big data', 'Python', 'Base de datos']"
            ]
          },
          "metadata": {},
          "execution_count": 42
        }
      ]
    },
    {
      "cell_type": "code",
      "source": [
        "set_cursos=set(lista_cursos)\n",
        "set_cursos"
      ],
      "metadata": {
        "colab": {
          "base_uri": "https://localhost:8080/"
        },
        "id": "EPi6nk0OuJXq",
        "outputId": "de11aefe-8dbb-4f3c-c985-299be74b258a"
      },
      "execution_count": null,
      "outputs": [
        {
          "output_type": "execute_result",
          "data": {
            "text/plain": [
              "{'Base de datos', 'Big data', 'Ciencia de datos', 'Python'}"
            ]
          },
          "metadata": {},
          "execution_count": 45
        }
      ]
    },
    {
      "cell_type": "code",
      "source": [
        "set_cursos2=set(['Python','Pandas','Mineria','Base de datos'])\n",
        "set_cursos2"
      ],
      "metadata": {
        "colab": {
          "base_uri": "https://localhost:8080/"
        },
        "id": "Z4Rln5bzuiUf",
        "outputId": "325afe52-a944-4f57-d191-38d3af01fa37"
      },
      "execution_count": null,
      "outputs": [
        {
          "output_type": "execute_result",
          "data": {
            "text/plain": [
              "{'Base de datos', 'Mineria', 'Pandas', 'Python'}"
            ]
          },
          "metadata": {},
          "execution_count": 46
        }
      ]
    },
    {
      "cell_type": "code",
      "source": [
        "#union\n",
        "print(set_cursos.union(set_cursos2))\n",
        "\n",
        "print(set_cursos | set_cursos2)"
      ],
      "metadata": {
        "colab": {
          "base_uri": "https://localhost:8080/"
        },
        "id": "y67hW5VGuvca",
        "outputId": "dad26bbe-bfb4-4a8e-9d98-7ce489597f61"
      },
      "execution_count": null,
      "outputs": [
        {
          "output_type": "stream",
          "name": "stdout",
          "text": [
            "{'Base de datos', 'Big data', 'Mineria', 'Python', 'Pandas', 'Ciencia de datos'}\n",
            "{'Base de datos', 'Big data', 'Mineria', 'Python', 'Pandas', 'Ciencia de datos'}\n"
          ]
        }
      ]
    },
    {
      "cell_type": "code",
      "source": [
        "#Interseccion\n",
        "print(set_cursos.intersection(set_cursos2))\n",
        "print(set_cursos & set_cursos2)"
      ],
      "metadata": {
        "colab": {
          "base_uri": "https://localhost:8080/"
        },
        "id": "jbxQOsV1u1Hh",
        "outputId": "2f144144-2885-4dd9-fea9-efc50e16fb77"
      },
      "execution_count": null,
      "outputs": [
        {
          "output_type": "stream",
          "name": "stdout",
          "text": [
            "{'Python', 'Base de datos'}\n",
            "{'Python', 'Base de datos'}\n"
          ]
        }
      ]
    },
    {
      "cell_type": "code",
      "source": [
        "#Diferencia\n",
        "print(set_cursos.difference(set_cursos2))\n",
        "print(set_cursos - set_cursos2)"
      ],
      "metadata": {
        "colab": {
          "base_uri": "https://localhost:8080/"
        },
        "id": "plVYbCYbvW_L",
        "outputId": "a8ce811d-f4fe-4942-e84d-87b5e4b6559c"
      },
      "execution_count": null,
      "outputs": [
        {
          "output_type": "stream",
          "name": "stdout",
          "text": [
            "{'Big data', 'Ciencia de datos'}\n",
            "{'Big data', 'Ciencia de datos'}\n"
          ]
        }
      ]
    },
    {
      "cell_type": "code",
      "source": [
        "set_cursos.union(set_cursos2)"
      ],
      "metadata": {
        "colab": {
          "base_uri": "https://localhost:8080/"
        },
        "id": "GSIDb8qZvmuq",
        "outputId": "f9c3fc1d-a122-44ce-eb33-9691abf60ce8"
      },
      "execution_count": null,
      "outputs": [
        {
          "output_type": "execute_result",
          "data": {
            "text/plain": [
              "{'Base de datos',\n",
              " 'Big data',\n",
              " 'Ciencia de datos',\n",
              " 'Mineria',\n",
              " 'Pandas',\n",
              " 'Python'}"
            ]
          },
          "metadata": {},
          "execution_count": 50
        }
      ]
    },
    {
      "cell_type": "code",
      "source": [
        "diccionario={'nombre':'Juan','edad':22,'cursos':['Python','Ciencia de datos','Big data']}\n",
        "diccionario"
      ],
      "metadata": {
        "colab": {
          "base_uri": "https://localhost:8080/"
        },
        "id": "Jn_7gX7LvsJd",
        "outputId": "1929ba43-9a92-469a-fe79-d4964a44f1c4"
      },
      "execution_count": null,
      "outputs": [
        {
          "output_type": "execute_result",
          "data": {
            "text/plain": [
              "{'cursos': ['Python', 'Ciencia de datos', 'Big data'],\n",
              " 'edad': 22,\n",
              " 'nombre': 'Juan'}"
            ]
          },
          "metadata": {},
          "execution_count": 51
        }
      ]
    },
    {
      "cell_type": "code",
      "source": [
        "diccionario['cursos']"
      ],
      "metadata": {
        "colab": {
          "base_uri": "https://localhost:8080/"
        },
        "id": "Wzc2FbHkwHL1",
        "outputId": "c6409611-2270-4204-d05a-6460fdf642a2"
      },
      "execution_count": null,
      "outputs": [
        {
          "output_type": "execute_result",
          "data": {
            "text/plain": [
              "['Python', 'Ciencia de datos', 'Big data']"
            ]
          },
          "metadata": {},
          "execution_count": 52
        }
      ]
    },
    {
      "cell_type": "code",
      "source": [
        "for c in diccionario['cursos']:\n",
        "  print(c)"
      ],
      "metadata": {
        "colab": {
          "base_uri": "https://localhost:8080/"
        },
        "id": "v2XUKco5wNIc",
        "outputId": "2d472a5f-c7d8-4643-bfc2-31c3060573ee"
      },
      "execution_count": null,
      "outputs": [
        {
          "output_type": "stream",
          "name": "stdout",
          "text": [
            "Python\n",
            "Ciencia de datos\n",
            "Big data\n"
          ]
        }
      ]
    },
    {
      "cell_type": "code",
      "source": [
        "#Llaves de diccionario\n",
        "\n",
        "for k in diccionario.keys():\n",
        "  print(k)"
      ],
      "metadata": {
        "colab": {
          "base_uri": "https://localhost:8080/"
        },
        "id": "vXx0-5RqwU0z",
        "outputId": "7a0e83e8-d88c-4245-b0b1-c151b74a603a"
      },
      "execution_count": null,
      "outputs": [
        {
          "output_type": "stream",
          "name": "stdout",
          "text": [
            "nombre\n",
            "edad\n",
            "cursos\n"
          ]
        }
      ]
    },
    {
      "cell_type": "code",
      "source": [
        "#Valores de diccionario\n",
        "for k in diccionario.values():\n",
        "  print(k)"
      ],
      "metadata": {
        "colab": {
          "base_uri": "https://localhost:8080/"
        },
        "id": "hbaSmPoewbwe",
        "outputId": "49c6dbf5-3991-4d65-b01d-79338e5134cc"
      },
      "execution_count": null,
      "outputs": [
        {
          "output_type": "stream",
          "name": "stdout",
          "text": [
            "Juan\n",
            "22\n",
            "['Python', 'Ciencia de datos', 'Big data']\n"
          ]
        }
      ]
    },
    {
      "cell_type": "code",
      "source": [
        "#Items de diccionario\n",
        "for i in diccionario.items():\n",
        "  print(i)"
      ],
      "metadata": {
        "colab": {
          "base_uri": "https://localhost:8080/"
        },
        "id": "_xZ4UGXfwmvH",
        "outputId": "f09beb02-2463-4023-b136-ca7ad4c5ade8"
      },
      "execution_count": null,
      "outputs": [
        {
          "output_type": "stream",
          "name": "stdout",
          "text": [
            "('nombre', 'Juan')\n",
            "('edad', 22)\n",
            "('cursos', ['Python', 'Ciencia de datos', 'Big data'])\n"
          ]
        }
      ]
    }
  ]
}