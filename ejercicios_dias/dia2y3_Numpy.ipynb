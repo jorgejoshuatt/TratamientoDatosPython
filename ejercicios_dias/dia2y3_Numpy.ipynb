{
  "nbformat": 4,
  "nbformat_minor": 0,
  "metadata": {
    "colab": {
      "name": "dia2y3_Numpy.ipynb",
      "provenance": [],
      "include_colab_link": true
    },
    "kernelspec": {
      "name": "python3",
      "display_name": "Python 3"
    },
    "language_info": {
      "name": "python"
    }
  },
  "cells": [
    {
      "cell_type": "markdown",
      "metadata": {
        "id": "view-in-github",
        "colab_type": "text"
      },
      "source": [
        "<a href=\"https://colab.research.google.com/github/jorgejoshuatt/TratamientoDatosPython/blob/main/dia2y3_Numpy.ipynb\" target=\"_parent\"><img src=\"https://colab.research.google.com/assets/colab-badge.svg\" alt=\"Open In Colab\"/></a>"
      ]
    },
    {
      "cell_type": "markdown",
      "source": [
        "# Conceptos básicos de *Numpy*\n",
        "\n",
        "[*Numpy*](http://www.numpy.org/) es un paquete que contiene una biblioteca de recursos especializados en realizar operaciones optimizadas en arreglos de datos.\n",
        "\n",
        "El proyecto *Numpy* cuenta con una extensa documentación, la cual está disponible en https://docs.scipy.org/doc/numpy/.\n"
      ],
      "metadata": {
        "id": "dDBcKc772f9a"
      }
    },
    {
      "cell_type": "code",
      "source": [
        "# Instalacion del Paquete\n",
        "!pip install numpy"
      ],
      "metadata": {
        "colab": {
          "base_uri": "https://localhost:8080/"
        },
        "id": "AKh-PNTf2r34",
        "outputId": "02834c22-0ce3-4123-91c7-23feee369467"
      },
      "execution_count": null,
      "outputs": [
        {
          "output_type": "stream",
          "name": "stdout",
          "text": [
            "Looking in indexes: https://pypi.org/simple, https://us-python.pkg.dev/colab-wheels/public/simple/\n",
            "Requirement already satisfied: numpy in /usr/local/lib/python3.7/dist-packages (1.21.6)\n"
          ]
        }
      ]
    },
    {
      "cell_type": "code",
      "source": [
        "# Importar el paquete numpy\n",
        "import numpy as np"
      ],
      "metadata": {
        "id": "W2yQCWV13Udr"
      },
      "execution_count": null,
      "outputs": []
    },
    {
      "cell_type": "code",
      "source": [
        "arreglo = np.array((1,2,3))\n",
        "arreglo"
      ],
      "metadata": {
        "colab": {
          "base_uri": "https://localhost:8080/"
        },
        "id": "DaFnpfX23sFs",
        "outputId": "f2bbb042-9c3e-4835-d02b-b436014c5b04"
      },
      "execution_count": null,
      "outputs": [
        {
          "output_type": "execute_result",
          "data": {
            "text/plain": [
              "array([1, 2, 3])"
            ]
          },
          "metadata": {},
          "execution_count": 3
        }
      ]
    },
    {
      "cell_type": "code",
      "source": [
        "type(arreglo)"
      ],
      "metadata": {
        "colab": {
          "base_uri": "https://localhost:8080/"
        },
        "id": "c5AHSGBj374D",
        "outputId": "dcc7d485-56bf-4b68-f4d5-e6bf709d160d"
      },
      "execution_count": null,
      "outputs": [
        {
          "output_type": "execute_result",
          "data": {
            "text/plain": [
              "numpy.ndarray"
            ]
          },
          "metadata": {},
          "execution_count": 4
        }
      ]
    },
    {
      "cell_type": "code",
      "source": [
        "for i in arreglo:\n",
        "  print('Valor: {}, Tipo: {}'.format(i,type(i)))"
      ],
      "metadata": {
        "colab": {
          "base_uri": "https://localhost:8080/"
        },
        "id": "OZ8_SC2Rq7Wd",
        "outputId": "7e9590d9-1569-42f5-a6fc-1c0ea8653e5d"
      },
      "execution_count": null,
      "outputs": [
        {
          "output_type": "stream",
          "name": "stdout",
          "text": [
            "Valor: 1, Tipo: <class 'numpy.int64'>\n",
            "Valor: 2, Tipo: <class 'numpy.int64'>\n",
            "Valor: 3, Tipo: <class 'numpy.int64'>\n"
          ]
        }
      ]
    },
    {
      "cell_type": "code",
      "source": [
        "arreglo = np.array((1,2,3.5))\n",
        "print(arreglo)\n",
        "print(type(arreglo))\n",
        "for i in arreglo:\n",
        "  print('Valor: {}, Tipo: {}'.format(i,type(i)))"
      ],
      "metadata": {
        "colab": {
          "base_uri": "https://localhost:8080/"
        },
        "id": "ycd-Yoq7rUdZ",
        "outputId": "f9dd2b98-2a0b-4619-e81a-862d4040a4be"
      },
      "execution_count": null,
      "outputs": [
        {
          "output_type": "stream",
          "name": "stdout",
          "text": [
            "[1.  2.  3.5]\n",
            "<class 'numpy.ndarray'>\n",
            "Valor: 1.0, Tipo: <class 'numpy.float64'>\n",
            "Valor: 2.0, Tipo: <class 'numpy.float64'>\n",
            "Valor: 3.5, Tipo: <class 'numpy.float64'>\n"
          ]
        }
      ]
    },
    {
      "cell_type": "code",
      "source": [
        "arreglo = np.array(['d', 3 , (12, 6, True)], dtype = object)\n",
        "for i in arreglo:\n",
        "  print('Valor: {}, Tipo: {}'.format(i,type(i)))"
      ],
      "metadata": {
        "colab": {
          "base_uri": "https://localhost:8080/"
        },
        "id": "yHemy0E3rp3c",
        "outputId": "29635082-d2ab-4a3a-9297-75a42b01fcd4"
      },
      "execution_count": null,
      "outputs": [
        {
          "output_type": "stream",
          "name": "stdout",
          "text": [
            "Valor: d, Tipo: <class 'str'>\n",
            "Valor: 3, Tipo: <class 'int'>\n",
            "Valor: (12, 6, True), Tipo: <class 'tuple'>\n"
          ]
        }
      ]
    },
    {
      "cell_type": "markdown",
      "source": [
        "### El atributo ```shape```.\n",
        "\n",
        "Los arreglos cuentan con el atributo ```shape```, el cual describe el número de elementos que contiene cada dimensión del arreglo.\n",
        "\n",
        "El valor de ```shape``` es un objeto tipo tuple que contiene una sucesión de números.\n",
        "\n",
        "```\n",
        "(<n1>, <n2>, <n3> ... <nm>)\n",
        "```\n",
        "\n",
        "* Donde ```<n1>``` corresponde al número de elementos en la primera dimensión,  ```<n2>``` corresponde al número de elementos en la segunda dimensión y así sucesivamente hasta ```<nm>``` , la cual corrersponde al número de elementos de la dimensión ```m```.\n"
      ],
      "metadata": {
        "id": "QPGAqZRgsHep"
      }
    },
    {
      "cell_type": "code",
      "source": [
        "arreglo = np.array((1,2,3.5))\n",
        "print(arreglo.ndim)     #Numero de Dimenciones\n",
        "print(arreglo.shape)    #Numero de Elementos en cada Dimencion\n",
        "print(arreglo.size)     #Numero Total de Elementos en el Arreglo"
      ],
      "metadata": {
        "colab": {
          "base_uri": "https://localhost:8080/"
        },
        "id": "o-Jz-mBkspYf",
        "outputId": "3ed319b2-49de-4f83-9cb0-ef80a12671ba"
      },
      "execution_count": null,
      "outputs": [
        {
          "output_type": "stream",
          "name": "stdout",
          "text": [
            "1\n",
            "(3,)\n",
            "3\n"
          ]
        }
      ]
    },
    {
      "cell_type": "code",
      "source": [
        "#Arreglo Bidimencional\n",
        "arreglo = np.array([[1, 2, 3],\n",
        "                    [4, 5, 6]])\n",
        "print(arreglo.ndim)     #Numero de Dimenciones\n",
        "print(arreglo.shape)    #Numero de Elementos en cada Dimencion\n",
        "print(arreglo.size)     #Numero Total de Elementos en el Arreglo"
      ],
      "metadata": {
        "colab": {
          "base_uri": "https://localhost:8080/"
        },
        "id": "LdGfAbh2tRp5",
        "outputId": "072ff815-0230-4411-c428-bfacf90326cf"
      },
      "execution_count": null,
      "outputs": [
        {
          "output_type": "stream",
          "name": "stdout",
          "text": [
            "2\n",
            "(2, 3)\n",
            "6\n"
          ]
        }
      ]
    },
    {
      "cell_type": "code",
      "source": [
        "#Arreglo Tridimencional\n",
        "arreglo = np.array([[[1, 2], [3, 4]],\n",
        "                    [[5, 6], [7, 8]]])\n",
        "print(arreglo.ndim)     #Numero de Dimenciones\n",
        "print(arreglo.shape)    #Numero de Elementos en cada Dimencion\n",
        "print(arreglo.size)     #Numero Total de Elementos en el Arreglo\n",
        "print(arreglo)"
      ],
      "metadata": {
        "colab": {
          "base_uri": "https://localhost:8080/"
        },
        "id": "FKfgqhtAtpDo",
        "outputId": "970005c7-970c-48da-9db4-4bfeea9d794e"
      },
      "execution_count": null,
      "outputs": [
        {
          "output_type": "stream",
          "name": "stdout",
          "text": [
            "3\n",
            "(2, 2, 2)\n",
            "8\n",
            "[[[1 2]\n",
            "  [3 4]]\n",
            "\n",
            " [[5 6]\n",
            "  [7 8]]]\n"
          ]
        }
      ]
    },
    {
      "cell_type": "code",
      "source": [
        "np.array(((1, 2), (3, 4)))\n",
        "#np.array(((1, 2), (3, 4))).shape"
      ],
      "metadata": {
        "colab": {
          "base_uri": "https://localhost:8080/"
        },
        "id": "B-BjcoSvuFNE",
        "outputId": "2b1e4c05-b987-469b-fb2d-586c74734cc6"
      },
      "execution_count": null,
      "outputs": [
        {
          "output_type": "execute_result",
          "data": {
            "text/plain": [
              "array([[1, 2],\n",
              "       [3, 4]])"
            ]
          },
          "metadata": {},
          "execution_count": 12
        }
      ]
    },
    {
      "cell_type": "code",
      "source": [
        "#Tipo por Default\n",
        "np.array(((1, 2), (3, 4))).dtype"
      ],
      "metadata": {
        "colab": {
          "base_uri": "https://localhost:8080/"
        },
        "id": "KQ5CXtlFuhc5",
        "outputId": "0c914ec5-4ec4-40c6-a3b8-bab60735b5b4"
      },
      "execution_count": null,
      "outputs": [
        {
          "output_type": "execute_result",
          "data": {
            "text/plain": [
              "dtype('int64')"
            ]
          },
          "metadata": {},
          "execution_count": 13
        }
      ]
    },
    {
      "cell_type": "code",
      "source": [
        "np.array(((-1, 2), (3, 4)), dtype = np.uint8)"
      ],
      "metadata": {
        "colab": {
          "base_uri": "https://localhost:8080/"
        },
        "id": "IqJrjImduyID",
        "outputId": "98cfb93c-d11b-4d9b-b163-ff89c1eae491"
      },
      "execution_count": null,
      "outputs": [
        {
          "output_type": "execute_result",
          "data": {
            "text/plain": [
              "array([[255,   2],\n",
              "       [  3,   4]], dtype=uint8)"
            ]
          },
          "metadata": {},
          "execution_count": 14
        }
      ]
    },
    {
      "cell_type": "code",
      "source": [
        "np.array(((-1, 2), (3, 4)), dtype = np.uint64)"
      ],
      "metadata": {
        "colab": {
          "base_uri": "https://localhost:8080/"
        },
        "id": "xii5kZNWu7nz",
        "outputId": "b8b5516d-3e32-4daf-8d78-0a42dedb3f85"
      },
      "execution_count": null,
      "outputs": [
        {
          "output_type": "execute_result",
          "data": {
            "text/plain": [
              "array([[18446744073709551615,                    2],\n",
              "       [                   3,                    4]], dtype=uint64)"
            ]
          },
          "metadata": {},
          "execution_count": 15
        }
      ]
    },
    {
      "cell_type": "code",
      "source": [
        "#Tipos Complejos\n",
        "complejo = np.array([[25.6j, 11.24],\n",
        "                      [-21.890-15702174.43j, 0]])\n",
        "print(complejo)\n",
        "print(complejo.dtype)"
      ],
      "metadata": {
        "colab": {
          "base_uri": "https://localhost:8080/"
        },
        "id": "IV3fJnvKvMPX",
        "outputId": "c27fcc83-ec22-44b2-babd-c89a2d98185a"
      },
      "execution_count": null,
      "outputs": [
        {
          "output_type": "stream",
          "name": "stdout",
          "text": [
            "[[  0.  +2.56000000e+01j  11.24+0.00000000e+00j]\n",
            " [-21.89-1.57021744e+07j   0.  +0.00000000e+00j]]\n",
            "complex128\n"
          ]
        }
      ]
    },
    {
      "cell_type": "code",
      "source": [
        "np.array(((1,'Hola'), (False, 0)))"
      ],
      "metadata": {
        "colab": {
          "base_uri": "https://localhost:8080/"
        },
        "id": "wZv_qk7wvcW8",
        "outputId": "ad2733d5-a0be-4492-fe1b-4c37c15fe4d4"
      },
      "execution_count": null,
      "outputs": [
        {
          "output_type": "execute_result",
          "data": {
            "text/plain": [
              "array([['1', 'Hola'],\n",
              "       ['False', '0']], dtype='<U21')"
            ]
          },
          "metadata": {},
          "execution_count": 19
        }
      ]
    },
    {
      "cell_type": "code",
      "source": [
        "#Arreglo Booleano\n",
        "np.array(((1,'Hola'), (False, 0)), dtype = np.bool_)"
      ],
      "metadata": {
        "colab": {
          "base_uri": "https://localhost:8080/"
        },
        "id": "mEjcUcCIvtCJ",
        "outputId": "badcf162-3a9d-410b-e5ed-a20059bce8c3"
      },
      "execution_count": null,
      "outputs": [
        {
          "output_type": "execute_result",
          "data": {
            "text/plain": [
              "array([[ True,  True],\n",
              "       [False, False]])"
            ]
          },
          "metadata": {},
          "execution_count": 20
        }
      ]
    },
    {
      "cell_type": "code",
      "source": [
        "#Tipo Cadena\n",
        "np.array((['Hugo', 'Paco'],['Luis Ignacio', 'Donald']))"
      ],
      "metadata": {
        "colab": {
          "base_uri": "https://localhost:8080/"
        },
        "id": "JEDP3wTQwQsT",
        "outputId": "0fd56210-0d20-4347-d876-0b2b0a3bc63c"
      },
      "execution_count": null,
      "outputs": [
        {
          "output_type": "execute_result",
          "data": {
            "text/plain": [
              "array([['Hugo', 'Paco'],\n",
              "       ['Luis Ignacio', 'Donald']], dtype='<U12')"
            ]
          },
          "metadata": {},
          "execution_count": 21
        }
      ]
    },
    {
      "cell_type": "code",
      "source": [
        "np.array((['Hugo', 'Paco'],['Luis Ignacio', 'Donald']), dtype = np.string_)"
      ],
      "metadata": {
        "colab": {
          "base_uri": "https://localhost:8080/"
        },
        "id": "Jp3dTwsawUjp",
        "outputId": "b8682988-ffeb-4724-a982-72a4be0bc5d6"
      },
      "execution_count": null,
      "outputs": [
        {
          "output_type": "execute_result",
          "data": {
            "text/plain": [
              "array([[b'Hugo', b'Paco'],\n",
              "       [b'Luis Ignacio', b'Donald']], dtype='|S12')"
            ]
          },
          "metadata": {},
          "execution_count": 23
        }
      ]
    },
    {
      "cell_type": "code",
      "source": [
        "#Trabajo con Fechas\n",
        "from datetime import datetime\n",
        "fechas = np.array([[np.datetime64(\"2019-08-25T23:59:45.231\"), \n",
        "                   np.datetime64(\"2020-07-23\")],\n",
        "                   [np.datetime64(datetime(year=2018, month=12, day=22)),\n",
        "                   np.datetime64(\"2019-03-01T11:25\")]])\n",
        "fechas"
      ],
      "metadata": {
        "colab": {
          "base_uri": "https://localhost:8080/"
        },
        "id": "WvDfuxC8xEeI",
        "outputId": "249f9bad-59c9-4b0c-e4b7-ee0bfe5dcc4f"
      },
      "execution_count": null,
      "outputs": [
        {
          "output_type": "execute_result",
          "data": {
            "text/plain": [
              "array([['2019-08-25T23:59:45.231000', '2020-07-23T00:00:00.000000'],\n",
              "       ['2018-12-22T00:00:00.000000', '2019-03-01T11:25:00.000000']],\n",
              "      dtype='datetime64[us]')"
            ]
          },
          "metadata": {},
          "execution_count": 24
        }
      ]
    },
    {
      "cell_type": "code",
      "source": [
        "#DeltaTime los segundos en un lapso de tiempo\n",
        "\n",
        "np.datetime64(datetime.now()) - fechas"
      ],
      "metadata": {
        "colab": {
          "base_uri": "https://localhost:8080/"
        },
        "id": "vGgmFE4ixPzP",
        "outputId": "dece2046-905d-405f-8175-edc0f8fc0ede"
      },
      "execution_count": null,
      "outputs": [
        {
          "output_type": "execute_result",
          "data": {
            "text/plain": [
              "array([[ 89649941798693,  60965127029693],\n",
              "       [110990727029693, 104988027029693]], dtype='timedelta64[us]')"
            ]
          },
          "metadata": {},
          "execution_count": 26
        }
      ]
    },
    {
      "cell_type": "code",
      "source": [
        "a1 = np.array([[[1, 2], [3, 4]],\n",
        "                    [[5, 6], [7, 8]]])\n",
        "\n",
        "a2 = np.array([[[10, 20], [30, 40]],\n",
        "                    [[50, 60], [70, 80]]])\n",
        "\n",
        "a3 = np.array((100, 200))\n",
        "\n",
        "print(a1 + a2)\n",
        "print('')\n",
        "print(a1 * 101)\n",
        "print('')\n",
        "print(a1 * a3)"
      ],
      "metadata": {
        "colab": {
          "base_uri": "https://localhost:8080/"
        },
        "id": "fjPh-G8hylv7",
        "outputId": "3028dc33-dca1-45ab-fcb4-fa2ea56f2fab"
      },
      "execution_count": null,
      "outputs": [
        {
          "output_type": "stream",
          "name": "stdout",
          "text": [
            "[[[11 22]\n",
            "  [33 44]]\n",
            "\n",
            " [[55 66]\n",
            "  [77 88]]]\n",
            "\n",
            "[[[101 202]\n",
            "  [303 404]]\n",
            "\n",
            " [[505 606]\n",
            "  [707 808]]]\n",
            "\n",
            "[[[ 100  400]\n",
            "  [ 300  800]]\n",
            "\n",
            " [[ 500 1200]\n",
            "  [ 700 1600]]]\n"
          ]
        }
      ]
    },
    {
      "cell_type": "code",
      "source": [
        "#ndarray Regresa un Arreglo con Valores no Definidos cercanos a 0\n",
        "np.ndarray((2,2), dtype=float)"
      ],
      "metadata": {
        "colab": {
          "base_uri": "https://localhost:8080/"
        },
        "id": "gPZbW4GDzg8B",
        "outputId": "fb793afc-73ce-42e6-9e3c-974f16c35836"
      },
      "execution_count": null,
      "outputs": [
        {
          "output_type": "execute_result",
          "data": {
            "text/plain": [
              "array([[4.42929564e-310, 3.01207749e-310],\n",
              "       [5.48367052e-310, 5.18709774e-310]])"
            ]
          },
          "metadata": {},
          "execution_count": 28
        }
      ]
    },
    {
      "cell_type": "code",
      "source": [
        "np.ndarray((2,2), dtype='>U10')"
      ],
      "metadata": {
        "colab": {
          "base_uri": "https://localhost:8080/"
        },
        "id": "_FTc399Xzg2F",
        "outputId": "190f160c-3472-4be8-d4f1-e1d163de8dd5"
      },
      "execution_count": null,
      "outputs": [
        {
          "output_type": "execute_result",
          "data": {
            "text/plain": [
              "array([['', ''],\n",
              "       ['', '']], dtype='>U10')"
            ]
          },
          "metadata": {},
          "execution_count": 29
        }
      ]
    },
    {
      "cell_type": "code",
      "source": [
        "#ones Genera un Arreglo Exclusivamente con el Numero 1 en cada Elemento\n",
        "np.ones((2, 5, 3, 6))"
      ],
      "metadata": {
        "colab": {
          "base_uri": "https://localhost:8080/"
        },
        "id": "UAtqZD-fz-Le",
        "outputId": "de5d513b-4498-4bfd-e157-1f61081693f6"
      },
      "execution_count": null,
      "outputs": [
        {
          "output_type": "execute_result",
          "data": {
            "text/plain": [
              "array([[[[1., 1., 1., 1., 1., 1.],\n",
              "         [1., 1., 1., 1., 1., 1.],\n",
              "         [1., 1., 1., 1., 1., 1.]],\n",
              "\n",
              "        [[1., 1., 1., 1., 1., 1.],\n",
              "         [1., 1., 1., 1., 1., 1.],\n",
              "         [1., 1., 1., 1., 1., 1.]],\n",
              "\n",
              "        [[1., 1., 1., 1., 1., 1.],\n",
              "         [1., 1., 1., 1., 1., 1.],\n",
              "         [1., 1., 1., 1., 1., 1.]],\n",
              "\n",
              "        [[1., 1., 1., 1., 1., 1.],\n",
              "         [1., 1., 1., 1., 1., 1.],\n",
              "         [1., 1., 1., 1., 1., 1.]],\n",
              "\n",
              "        [[1., 1., 1., 1., 1., 1.],\n",
              "         [1., 1., 1., 1., 1., 1.],\n",
              "         [1., 1., 1., 1., 1., 1.]]],\n",
              "\n",
              "\n",
              "       [[[1., 1., 1., 1., 1., 1.],\n",
              "         [1., 1., 1., 1., 1., 1.],\n",
              "         [1., 1., 1., 1., 1., 1.]],\n",
              "\n",
              "        [[1., 1., 1., 1., 1., 1.],\n",
              "         [1., 1., 1., 1., 1., 1.],\n",
              "         [1., 1., 1., 1., 1., 1.]],\n",
              "\n",
              "        [[1., 1., 1., 1., 1., 1.],\n",
              "         [1., 1., 1., 1., 1., 1.],\n",
              "         [1., 1., 1., 1., 1., 1.]],\n",
              "\n",
              "        [[1., 1., 1., 1., 1., 1.],\n",
              "         [1., 1., 1., 1., 1., 1.],\n",
              "         [1., 1., 1., 1., 1., 1.]],\n",
              "\n",
              "        [[1., 1., 1., 1., 1., 1.],\n",
              "         [1., 1., 1., 1., 1., 1.],\n",
              "         [1., 1., 1., 1., 1., 1.]]]])"
            ]
          },
          "metadata": {},
          "execution_count": 30
        }
      ]
    },
    {
      "cell_type": "code",
      "source": [
        "#zeros Genera un Arreglo Exclusivamente con el Numero 0 en cada Elemento\n",
        "np.zeros((2, 5, 3, 6))"
      ],
      "metadata": {
        "colab": {
          "base_uri": "https://localhost:8080/"
        },
        "id": "I139Y8Bu0QUq",
        "outputId": "39990117-5fb2-47fe-b5d3-9ec70575a36c"
      },
      "execution_count": null,
      "outputs": [
        {
          "output_type": "execute_result",
          "data": {
            "text/plain": [
              "array([[[[0., 0., 0., 0., 0., 0.],\n",
              "         [0., 0., 0., 0., 0., 0.],\n",
              "         [0., 0., 0., 0., 0., 0.]],\n",
              "\n",
              "        [[0., 0., 0., 0., 0., 0.],\n",
              "         [0., 0., 0., 0., 0., 0.],\n",
              "         [0., 0., 0., 0., 0., 0.]],\n",
              "\n",
              "        [[0., 0., 0., 0., 0., 0.],\n",
              "         [0., 0., 0., 0., 0., 0.],\n",
              "         [0., 0., 0., 0., 0., 0.]],\n",
              "\n",
              "        [[0., 0., 0., 0., 0., 0.],\n",
              "         [0., 0., 0., 0., 0., 0.],\n",
              "         [0., 0., 0., 0., 0., 0.]],\n",
              "\n",
              "        [[0., 0., 0., 0., 0., 0.],\n",
              "         [0., 0., 0., 0., 0., 0.],\n",
              "         [0., 0., 0., 0., 0., 0.]]],\n",
              "\n",
              "\n",
              "       [[[0., 0., 0., 0., 0., 0.],\n",
              "         [0., 0., 0., 0., 0., 0.],\n",
              "         [0., 0., 0., 0., 0., 0.]],\n",
              "\n",
              "        [[0., 0., 0., 0., 0., 0.],\n",
              "         [0., 0., 0., 0., 0., 0.],\n",
              "         [0., 0., 0., 0., 0., 0.]],\n",
              "\n",
              "        [[0., 0., 0., 0., 0., 0.],\n",
              "         [0., 0., 0., 0., 0., 0.],\n",
              "         [0., 0., 0., 0., 0., 0.]],\n",
              "\n",
              "        [[0., 0., 0., 0., 0., 0.],\n",
              "         [0., 0., 0., 0., 0., 0.],\n",
              "         [0., 0., 0., 0., 0., 0.]],\n",
              "\n",
              "        [[0., 0., 0., 0., 0., 0.],\n",
              "         [0., 0., 0., 0., 0., 0.],\n",
              "         [0., 0., 0., 0., 0., 0.]]]])"
            ]
          },
          "metadata": {},
          "execution_count": 31
        }
      ]
    },
    {
      "cell_type": "code",
      "source": [
        "np.zeros((2, 2, 2), dtype=bool)"
      ],
      "metadata": {
        "colab": {
          "base_uri": "https://localhost:8080/"
        },
        "id": "MVd1nq7J0iFO",
        "outputId": "691d47cb-538b-498d-b654-c7d7ba289190"
      },
      "execution_count": null,
      "outputs": [
        {
          "output_type": "execute_result",
          "data": {
            "text/plain": [
              "array([[[False, False],\n",
              "        [False, False]],\n",
              "\n",
              "       [[False, False],\n",
              "        [False, False]]])"
            ]
          },
          "metadata": {},
          "execution_count": 33
        }
      ]
    },
    {
      "cell_type": "code",
      "source": [
        "np.ones((2, 2, 2), dtype=bool)"
      ],
      "metadata": {
        "colab": {
          "base_uri": "https://localhost:8080/"
        },
        "id": "lqzIvapO0ps_",
        "outputId": "7074f2d1-dac2-44ad-bc43-8903da25f0e5"
      },
      "execution_count": null,
      "outputs": [
        {
          "output_type": "execute_result",
          "data": {
            "text/plain": [
              "array([[[ True,  True],\n",
              "        [ True,  True]],\n",
              "\n",
              "       [[ True,  True],\n",
              "        [ True,  True]]])"
            ]
          },
          "metadata": {},
          "execution_count": 34
        }
      ]
    },
    {
      "cell_type": "code",
      "source": [
        "#empty Genera Arreglos Vacios\n",
        "np.empty((2, 2, 2), dtype=np.int8)"
      ],
      "metadata": {
        "colab": {
          "base_uri": "https://localhost:8080/"
        },
        "id": "NJ967lTC051l",
        "outputId": "a33628c0-2693-45bd-f4ae-10fac4d633d8"
      },
      "execution_count": null,
      "outputs": [
        {
          "output_type": "execute_result",
          "data": {
            "text/plain": [
              "array([[[ 96,  50],\n",
              "        [-11,   2]],\n",
              "\n",
              "       [[  0,   0],\n",
              "        [  0,   0]]], dtype=int8)"
            ]
          },
          "metadata": {},
          "execution_count": 38
        }
      ]
    },
    {
      "cell_type": "code",
      "source": [
        "#arange Genera un Arreglo Unidimencional con Valores Enteros en un Rango\n",
        "np.arange(6,21)"
      ],
      "metadata": {
        "colab": {
          "base_uri": "https://localhost:8080/"
        },
        "id": "qQWEPV261qve",
        "outputId": "2f5d2aba-5833-435f-89d2-dffee8e563d4"
      },
      "execution_count": null,
      "outputs": [
        {
          "output_type": "execute_result",
          "data": {
            "text/plain": [
              "array([ 6,  7,  8,  9, 10, 11, 12, 13, 14, 15, 16, 17, 18, 19, 20])"
            ]
          },
          "metadata": {},
          "execution_count": 39
        }
      ]
    },
    {
      "cell_type": "code",
      "source": [
        "#arange(Limite Inferior, Limite Superior, Salto)\n",
        "np.arange(-30, 10, 4)"
      ],
      "metadata": {
        "colab": {
          "base_uri": "https://localhost:8080/"
        },
        "id": "XsPENQ6z17Yk",
        "outputId": "65ac655c-9301-4724-a855-dd38127fa054"
      },
      "execution_count": null,
      "outputs": [
        {
          "output_type": "execute_result",
          "data": {
            "text/plain": [
              "array([-30, -26, -22, -18, -14, -10,  -6,  -2,   2,   6])"
            ]
          },
          "metadata": {},
          "execution_count": 42
        }
      ]
    },
    {
      "cell_type": "code",
      "source": [
        "#linspace Genera un Arreglo Unidimencional con una Secuencia Lineal de Valores dentro de un Rango\n",
        "np.linspace(0,8)"
      ],
      "metadata": {
        "colab": {
          "base_uri": "https://localhost:8080/"
        },
        "id": "jrunaci52eie",
        "outputId": "1669f134-588c-4bbd-9a03-9ac641ebe7d4"
      },
      "execution_count": null,
      "outputs": [
        {
          "output_type": "execute_result",
          "data": {
            "text/plain": [
              "array([0.        , 0.16326531, 0.32653061, 0.48979592, 0.65306122,\n",
              "       0.81632653, 0.97959184, 1.14285714, 1.30612245, 1.46938776,\n",
              "       1.63265306, 1.79591837, 1.95918367, 2.12244898, 2.28571429,\n",
              "       2.44897959, 2.6122449 , 2.7755102 , 2.93877551, 3.10204082,\n",
              "       3.26530612, 3.42857143, 3.59183673, 3.75510204, 3.91836735,\n",
              "       4.08163265, 4.24489796, 4.40816327, 4.57142857, 4.73469388,\n",
              "       4.89795918, 5.06122449, 5.2244898 , 5.3877551 , 5.55102041,\n",
              "       5.71428571, 5.87755102, 6.04081633, 6.20408163, 6.36734694,\n",
              "       6.53061224, 6.69387755, 6.85714286, 7.02040816, 7.18367347,\n",
              "       7.34693878, 7.51020408, 7.67346939, 7.83673469, 8.        ])"
            ]
          },
          "metadata": {},
          "execution_count": 43
        }
      ]
    },
    {
      "cell_type": "code",
      "source": [
        "np.linspace(0,8, num=100)"
      ],
      "metadata": {
        "colab": {
          "base_uri": "https://localhost:8080/"
        },
        "id": "FiCkoTup29D1",
        "outputId": "40584724-15e2-4cd5-9fda-930885f63544"
      },
      "execution_count": null,
      "outputs": [
        {
          "output_type": "execute_result",
          "data": {
            "text/plain": [
              "array([0.        , 0.08080808, 0.16161616, 0.24242424, 0.32323232,\n",
              "       0.4040404 , 0.48484848, 0.56565657, 0.64646465, 0.72727273,\n",
              "       0.80808081, 0.88888889, 0.96969697, 1.05050505, 1.13131313,\n",
              "       1.21212121, 1.29292929, 1.37373737, 1.45454545, 1.53535354,\n",
              "       1.61616162, 1.6969697 , 1.77777778, 1.85858586, 1.93939394,\n",
              "       2.02020202, 2.1010101 , 2.18181818, 2.26262626, 2.34343434,\n",
              "       2.42424242, 2.50505051, 2.58585859, 2.66666667, 2.74747475,\n",
              "       2.82828283, 2.90909091, 2.98989899, 3.07070707, 3.15151515,\n",
              "       3.23232323, 3.31313131, 3.39393939, 3.47474747, 3.55555556,\n",
              "       3.63636364, 3.71717172, 3.7979798 , 3.87878788, 3.95959596,\n",
              "       4.04040404, 4.12121212, 4.2020202 , 4.28282828, 4.36363636,\n",
              "       4.44444444, 4.52525253, 4.60606061, 4.68686869, 4.76767677,\n",
              "       4.84848485, 4.92929293, 5.01010101, 5.09090909, 5.17171717,\n",
              "       5.25252525, 5.33333333, 5.41414141, 5.49494949, 5.57575758,\n",
              "       5.65656566, 5.73737374, 5.81818182, 5.8989899 , 5.97979798,\n",
              "       6.06060606, 6.14141414, 6.22222222, 6.3030303 , 6.38383838,\n",
              "       6.46464646, 6.54545455, 6.62626263, 6.70707071, 6.78787879,\n",
              "       6.86868687, 6.94949495, 7.03030303, 7.11111111, 7.19191919,\n",
              "       7.27272727, 7.35353535, 7.43434343, 7.51515152, 7.5959596 ,\n",
              "       7.67676768, 7.75757576, 7.83838384, 7.91919192, 8.        ])"
            ]
          },
          "metadata": {},
          "execution_count": 44
        }
      ]
    },
    {
      "cell_type": "code",
      "source": [
        "#Escribir en un archivo txt\n",
        "arreglo = np.linspace(0, 8, num=100)\n",
        "np.savetxt('arreglo.txt', arreglo)"
      ],
      "metadata": {
        "id": "EHGT2Q-a3B6y"
      },
      "execution_count": null,
      "outputs": []
    },
    {
      "cell_type": "code",
      "source": [
        "#Escribir en un Archivo Binario\n",
        "np.save('arreglo', arreglo)"
      ],
      "metadata": {
        "id": "IrY3oEF24L9G"
      },
      "execution_count": null,
      "outputs": []
    },
    {
      "cell_type": "code",
      "source": [
        "#Leer Archivo\n",
        "arreglo2 = np.loadtxt('arreglo.txt')\n",
        "arreglo2"
      ],
      "metadata": {
        "colab": {
          "base_uri": "https://localhost:8080/"
        },
        "id": "KQ_Duk0c4L3s",
        "outputId": "ac8043f4-d694-48b9-9a83-dfc2bcbc5549"
      },
      "execution_count": null,
      "outputs": [
        {
          "output_type": "execute_result",
          "data": {
            "text/plain": [
              "array([0.        , 0.08080808, 0.16161616, 0.24242424, 0.32323232,\n",
              "       0.4040404 , 0.48484848, 0.56565657, 0.64646465, 0.72727273,\n",
              "       0.80808081, 0.88888889, 0.96969697, 1.05050505, 1.13131313,\n",
              "       1.21212121, 1.29292929, 1.37373737, 1.45454545, 1.53535354,\n",
              "       1.61616162, 1.6969697 , 1.77777778, 1.85858586, 1.93939394,\n",
              "       2.02020202, 2.1010101 , 2.18181818, 2.26262626, 2.34343434,\n",
              "       2.42424242, 2.50505051, 2.58585859, 2.66666667, 2.74747475,\n",
              "       2.82828283, 2.90909091, 2.98989899, 3.07070707, 3.15151515,\n",
              "       3.23232323, 3.31313131, 3.39393939, 3.47474747, 3.55555556,\n",
              "       3.63636364, 3.71717172, 3.7979798 , 3.87878788, 3.95959596,\n",
              "       4.04040404, 4.12121212, 4.2020202 , 4.28282828, 4.36363636,\n",
              "       4.44444444, 4.52525253, 4.60606061, 4.68686869, 4.76767677,\n",
              "       4.84848485, 4.92929293, 5.01010101, 5.09090909, 5.17171717,\n",
              "       5.25252525, 5.33333333, 5.41414141, 5.49494949, 5.57575758,\n",
              "       5.65656566, 5.73737374, 5.81818182, 5.8989899 , 5.97979798,\n",
              "       6.06060606, 6.14141414, 6.22222222, 6.3030303 , 6.38383838,\n",
              "       6.46464646, 6.54545455, 6.62626263, 6.70707071, 6.78787879,\n",
              "       6.86868687, 6.94949495, 7.03030303, 7.11111111, 7.19191919,\n",
              "       7.27272727, 7.35353535, 7.43434343, 7.51515152, 7.5959596 ,\n",
              "       7.67676768, 7.75757576, 7.83838384, 7.91919192, 8.        ])"
            ]
          },
          "metadata": {},
          "execution_count": 47
        }
      ]
    },
    {
      "cell_type": "code",
      "source": [
        "#Listar el Contenido de\n",
        "%ls"
      ],
      "metadata": {
        "colab": {
          "base_uri": "https://localhost:8080/"
        },
        "id": "_nR7AvOe4_-r",
        "outputId": "d3937c21-8531-4646-b5af-0e7ce0436349"
      },
      "execution_count": null,
      "outputs": [
        {
          "output_type": "stream",
          "name": "stdout",
          "text": [
            "arreglo.npy  arreglo.txt  \u001b[0m\u001b[01;34msample_data\u001b[0m/\n"
          ]
        }
      ]
    },
    {
      "cell_type": "code",
      "source": [
        "#Ver el Contenido de un Archivo\n",
        "%cat arreglo.txt"
      ],
      "metadata": {
        "colab": {
          "base_uri": "https://localhost:8080/"
        },
        "id": "wPlxZUsG5Gz_",
        "outputId": "40a728e6-64eb-47d4-c3d6-03a58eb933f2"
      },
      "execution_count": null,
      "outputs": [
        {
          "output_type": "stream",
          "name": "stdout",
          "text": [
            "0.000000000000000000e+00\n",
            "8.080808080808081495e-02\n",
            "1.616161616161616299e-01\n",
            "2.424242424242424310e-01\n",
            "3.232323232323232598e-01\n",
            "4.040404040404040886e-01\n",
            "4.848484848484848619e-01\n",
            "5.656565656565657463e-01\n",
            "6.464646464646465196e-01\n",
            "7.272727272727272929e-01\n",
            "8.080808080808081773e-01\n",
            "8.888888888888889506e-01\n",
            "9.696969696969697239e-01\n",
            "1.050505050505050608e+00\n",
            "1.131313131313131493e+00\n",
            "1.212121212121212155e+00\n",
            "1.292929292929293039e+00\n",
            "1.373737373737373924e+00\n",
            "1.454545454545454586e+00\n",
            "1.535353535353535470e+00\n",
            "1.616161616161616355e+00\n",
            "1.696969696969697017e+00\n",
            "1.777777777777777901e+00\n",
            "1.858585858585858785e+00\n",
            "1.939393939393939448e+00\n",
            "2.020202020202020332e+00\n",
            "2.101010101010101216e+00\n",
            "2.181818181818182101e+00\n",
            "2.262626262626262985e+00\n",
            "2.343434343434343425e+00\n",
            "2.424242424242424310e+00\n",
            "2.505050505050505194e+00\n",
            "2.585858585858586078e+00\n",
            "2.666666666666666963e+00\n",
            "2.747474747474747847e+00\n",
            "2.828282828282828731e+00\n",
            "2.909090909090909172e+00\n",
            "2.989898989898990056e+00\n",
            "3.070707070707070940e+00\n",
            "3.151515151515151825e+00\n",
            "3.232323232323232709e+00\n",
            "3.313131313131313593e+00\n",
            "3.393939393939394034e+00\n",
            "3.474747474747474918e+00\n",
            "3.555555555555555802e+00\n",
            "3.636363636363636687e+00\n",
            "3.717171717171717571e+00\n",
            "3.797979797979798455e+00\n",
            "3.878787878787878896e+00\n",
            "3.959595959595959780e+00\n",
            "4.040404040404040664e+00\n",
            "4.121212121212121993e+00\n",
            "4.202020202020202433e+00\n",
            "4.282828282828282873e+00\n",
            "4.363636363636364202e+00\n",
            "4.444444444444444642e+00\n",
            "4.525252525252525970e+00\n",
            "4.606060606060606410e+00\n",
            "4.686868686868686851e+00\n",
            "4.767676767676768179e+00\n",
            "4.848484848484848619e+00\n",
            "4.929292929292929948e+00\n",
            "5.010101010101010388e+00\n",
            "5.090909090909091717e+00\n",
            "5.171717171717172157e+00\n",
            "5.252525252525252597e+00\n",
            "5.333333333333333925e+00\n",
            "5.414141414141414366e+00\n",
            "5.494949494949495694e+00\n",
            "5.575757575757576134e+00\n",
            "5.656565656565657463e+00\n",
            "5.737373737373737903e+00\n",
            "5.818181818181818343e+00\n",
            "5.898989898989899672e+00\n",
            "5.979797979797980112e+00\n",
            "6.060606060606061440e+00\n",
            "6.141414141414141881e+00\n",
            "6.222222222222222321e+00\n",
            "6.303030303030303649e+00\n",
            "6.383838383838384090e+00\n",
            "6.464646464646465418e+00\n",
            "6.545454545454545858e+00\n",
            "6.626262626262627187e+00\n",
            "6.707070707070707627e+00\n",
            "6.787878787878788067e+00\n",
            "6.868686868686869396e+00\n",
            "6.949494949494949836e+00\n",
            "7.030303030303031164e+00\n",
            "7.111111111111111605e+00\n",
            "7.191919191919192933e+00\n",
            "7.272727272727273373e+00\n",
            "7.353535353535353813e+00\n",
            "7.434343434343435142e+00\n",
            "7.515151515151515582e+00\n",
            "7.595959595959596911e+00\n",
            "7.676767676767677351e+00\n",
            "7.757575757575757791e+00\n",
            "7.838383838383839120e+00\n",
            "7.919191919191919560e+00\n",
            "8.000000000000000000e+00\n"
          ]
        }
      ]
    },
    {
      "cell_type": "code",
      "source": [
        "np.load('arreglo.npy')"
      ],
      "metadata": {
        "colab": {
          "base_uri": "https://localhost:8080/"
        },
        "id": "XTO8MsMA6xTx",
        "outputId": "b7a64354-1c7c-486c-cc33-41347b3a6f53"
      },
      "execution_count": null,
      "outputs": [
        {
          "output_type": "execute_result",
          "data": {
            "text/plain": [
              "array([0.        , 0.08080808, 0.16161616, 0.24242424, 0.32323232,\n",
              "       0.4040404 , 0.48484848, 0.56565657, 0.64646465, 0.72727273,\n",
              "       0.80808081, 0.88888889, 0.96969697, 1.05050505, 1.13131313,\n",
              "       1.21212121, 1.29292929, 1.37373737, 1.45454545, 1.53535354,\n",
              "       1.61616162, 1.6969697 , 1.77777778, 1.85858586, 1.93939394,\n",
              "       2.02020202, 2.1010101 , 2.18181818, 2.26262626, 2.34343434,\n",
              "       2.42424242, 2.50505051, 2.58585859, 2.66666667, 2.74747475,\n",
              "       2.82828283, 2.90909091, 2.98989899, 3.07070707, 3.15151515,\n",
              "       3.23232323, 3.31313131, 3.39393939, 3.47474747, 3.55555556,\n",
              "       3.63636364, 3.71717172, 3.7979798 , 3.87878788, 3.95959596,\n",
              "       4.04040404, 4.12121212, 4.2020202 , 4.28282828, 4.36363636,\n",
              "       4.44444444, 4.52525253, 4.60606061, 4.68686869, 4.76767677,\n",
              "       4.84848485, 4.92929293, 5.01010101, 5.09090909, 5.17171717,\n",
              "       5.25252525, 5.33333333, 5.41414141, 5.49494949, 5.57575758,\n",
              "       5.65656566, 5.73737374, 5.81818182, 5.8989899 , 5.97979798,\n",
              "       6.06060606, 6.14141414, 6.22222222, 6.3030303 , 6.38383838,\n",
              "       6.46464646, 6.54545455, 6.62626263, 6.70707071, 6.78787879,\n",
              "       6.86868687, 6.94949495, 7.03030303, 7.11111111, 7.19191919,\n",
              "       7.27272727, 7.35353535, 7.43434343, 7.51515152, 7.5959596 ,\n",
              "       7.67676768, 7.75757576, 7.83838384, 7.91919192, 8.        ])"
            ]
          },
          "metadata": {},
          "execution_count": 54
        }
      ]
    },
    {
      "cell_type": "markdown",
      "source": [
        "# Operaciones básicas con arreglos.\n"
      ],
      "metadata": {
        "id": "RcyOZmYg89Wq"
      }
    },
    {
      "cell_type": "markdown",
      "source": [
        "La siguiente tabla ejemplifica la conformación de las Equipos en una semana dada.\n",
        "\n",
        "||Equipo 1| Equipo 2|\n",
        "|:--:|:---:|:---:|\n",
        "|**Lunes**|Lilia, Antonio, Ricardo|Alonso, Jorge, Salvador|\n",
        "|**Martes**|Mariana, Julian, Ricardo|Arturo, Ramy, Esteban|\n",
        "|**Miércoles**|Arturo, Ricardo, Lucio|Jorge, Marco, Lilia|\n",
        "|**Jueves**|Alonso, Julian, Salvador|Ricardo, Jorge, Esteban|\n",
        "|**Viernes**|Lucio, Ramy, Joaquín|Ricardo, Marco, Lilia|\n"
      ],
      "metadata": {
        "id": "IBkr7RvQ9ET5"
      }
    },
    {
      "cell_type": "code",
      "source": [
        "equipos = np.array([[['Lilia', 'Antonio', 'Ricardo'], ['Alonso', 'Jorge', 'Salvador']],\n",
        "                    [['Mariana', 'Julian', 'Ricardo'], ['Arturo', 'Ramy', 'Esteban']],\n",
        "                    [['Arturo', 'Ricardo', 'Lucio'], ['Jorge', 'Marco', 'Lilia']],\n",
        "                    [['Alonso', 'Julian', 'Salvador'], ['Ricardo', 'Jorge', 'Esteban']],\n",
        "                    [['Lucio', 'Ramy', 'Joaquín'], ['Ricardo', 'Marco', 'Lilia']]])"
      ],
      "metadata": {
        "id": "OqMGEHvL8ugz"
      },
      "execution_count": null,
      "outputs": []
    },
    {
      "cell_type": "code",
      "source": [
        "equipos"
      ],
      "metadata": {
        "colab": {
          "base_uri": "https://localhost:8080/"
        },
        "id": "0lO7WDle8zjc",
        "outputId": "9bd129de-7c9e-4169-e422-d8344d52c04f"
      },
      "execution_count": null,
      "outputs": [
        {
          "output_type": "execute_result",
          "data": {
            "text/plain": [
              "array([[['Lilia', 'Antonio', 'Ricardo'],\n",
              "        ['Alonso', 'Jorge', 'Salvador']],\n",
              "\n",
              "       [['Mariana', 'Julian', 'Ricardo'],\n",
              "        ['Arturo', 'Ramy', 'Esteban']],\n",
              "\n",
              "       [['Arturo', 'Ricardo', 'Lucio'],\n",
              "        ['Jorge', 'Marco', 'Lilia']],\n",
              "\n",
              "       [['Alonso', 'Julian', 'Salvador'],\n",
              "        ['Ricardo', 'Jorge', 'Esteban']],\n",
              "\n",
              "       [['Lucio', 'Ramy', 'Joaquín'],\n",
              "        ['Ricardo', 'Marco', 'Lilia']]], dtype='<U8')"
            ]
          },
          "metadata": {},
          "execution_count": 57
        }
      ]
    },
    {
      "cell_type": "code",
      "source": [
        "print(equipos.ndim)\n",
        "print(equipos.shape)\n",
        "print(equipos.size)"
      ],
      "metadata": {
        "colab": {
          "base_uri": "https://localhost:8080/"
        },
        "id": "VsKgKkey9qIz",
        "outputId": "1bd261e5-066d-403d-91fb-295c792e4653"
      },
      "execution_count": null,
      "outputs": [
        {
          "output_type": "stream",
          "name": "stdout",
          "text": [
            "3\n",
            "(5, 2, 3)\n",
            "30\n"
          ]
        }
      ]
    },
    {
      "cell_type": "code",
      "source": [
        "#Slice de Arreglos\n",
        "#Listar los Dias Martes y Miercoles de la Semana\n",
        "equipos[1:3]"
      ],
      "metadata": {
        "colab": {
          "base_uri": "https://localhost:8080/"
        },
        "id": "w78z1wFk-CTN",
        "outputId": "b905a7db-f775-4956-b727-711a12172642"
      },
      "execution_count": null,
      "outputs": [
        {
          "output_type": "execute_result",
          "data": {
            "text/plain": [
              "array([[['Mariana', 'Julian', 'Ricardo'],\n",
              "        ['Arturo', 'Ramy', 'Esteban']],\n",
              "\n",
              "       [['Arturo', 'Ricardo', 'Lucio'],\n",
              "        ['Jorge', 'Marco', 'Lilia']]], dtype='<U8')"
            ]
          },
          "metadata": {},
          "execution_count": 60
        }
      ]
    },
    {
      "cell_type": "code",
      "source": [
        "equipos[1:3].shape"
      ],
      "metadata": {
        "colab": {
          "base_uri": "https://localhost:8080/"
        },
        "id": "KHrHd_CN-bHl",
        "outputId": "222a9d20-fe1e-4818-e9f1-5a0a89f055f8"
      },
      "execution_count": null,
      "outputs": [
        {
          "output_type": "execute_result",
          "data": {
            "text/plain": [
              "(2, 2, 3)"
            ]
          },
          "metadata": {},
          "execution_count": 61
        }
      ]
    },
    {
      "cell_type": "code",
      "source": [
        "#Ver el Equipo 2 de los Dias Martes y Miercoles de la Semana\n",
        "equipos[1:3, 1]"
      ],
      "metadata": {
        "colab": {
          "base_uri": "https://localhost:8080/"
        },
        "id": "rpDCTtPR-dqO",
        "outputId": "282666d3-c9b5-4c96-c921-19d4d42f2d8e"
      },
      "execution_count": null,
      "outputs": [
        {
          "output_type": "execute_result",
          "data": {
            "text/plain": [
              "array([['Arturo', 'Ramy', 'Esteban'],\n",
              "       ['Jorge', 'Marco', 'Lilia']], dtype='<U8')"
            ]
          },
          "metadata": {},
          "execution_count": 62
        }
      ]
    },
    {
      "cell_type": "code",
      "source": [
        "equipos[1:3, 1].shape"
      ],
      "metadata": {
        "colab": {
          "base_uri": "https://localhost:8080/"
        },
        "id": "J5eFP2tb-vOm",
        "outputId": "8081a62b-e95a-4996-91ed-81fbb49de318"
      },
      "execution_count": null,
      "outputs": [
        {
          "output_type": "execute_result",
          "data": {
            "text/plain": [
              "(2, 3)"
            ]
          },
          "metadata": {},
          "execution_count": 63
        }
      ]
    },
    {
      "cell_type": "code",
      "source": [
        "#Ver los 2 Primeros Integrantes del Equipo 2 de los Dias Martes y Miercoles de la Semana\n",
        "equipos[1:3, 1, 0:2]"
      ],
      "metadata": {
        "colab": {
          "base_uri": "https://localhost:8080/"
        },
        "id": "J8yIwYo6-3_D",
        "outputId": "3b7d9915-7955-4516-fc36-fb020e826c4b"
      },
      "execution_count": null,
      "outputs": [
        {
          "output_type": "execute_result",
          "data": {
            "text/plain": [
              "array([['Arturo', 'Ramy'],\n",
              "       ['Jorge', 'Marco']], dtype='<U8')"
            ]
          },
          "metadata": {},
          "execution_count": 64
        }
      ]
    },
    {
      "cell_type": "code",
      "source": [
        "equipos[1:3, 1, 0:2].shape"
      ],
      "metadata": {
        "colab": {
          "base_uri": "https://localhost:8080/"
        },
        "id": "QiesUqzY_KUE",
        "outputId": "8e1945b6-7b00-4af5-fb03-90badb8b820e"
      },
      "execution_count": null,
      "outputs": [
        {
          "output_type": "execute_result",
          "data": {
            "text/plain": [
              "(2, 2)"
            ]
          },
          "metadata": {},
          "execution_count": 65
        }
      ]
    },
    {
      "cell_type": "code",
      "source": [
        "#Ver el Tercer Integrante del Equipo 1 en todos los Dias\n",
        "equipos[:, 0, 2:3]"
      ],
      "metadata": {
        "colab": {
          "base_uri": "https://localhost:8080/"
        },
        "id": "DOk8tYL-_SO2",
        "outputId": "8d433ee8-cf92-4265-c006-028ec81793b0"
      },
      "execution_count": null,
      "outputs": [
        {
          "output_type": "execute_result",
          "data": {
            "text/plain": [
              "array([['Ricardo'],\n",
              "       ['Ricardo'],\n",
              "       ['Lucio'],\n",
              "       ['Salvador'],\n",
              "       ['Joaquín']], dtype='<U8')"
            ]
          },
          "metadata": {},
          "execution_count": 67
        }
      ]
    },
    {
      "cell_type": "code",
      "source": [
        "#Ver el Integrante 3 del Equipo 2 del Viernes\n",
        "equipos[4, 1, 2]"
      ],
      "metadata": {
        "colab": {
          "base_uri": "https://localhost:8080/",
          "height": 36
        },
        "id": "5gJIYwxmAGvA",
        "outputId": "5da8e172-fccd-42ad-9cd4-56e1b88559b9"
      },
      "execution_count": null,
      "outputs": [
        {
          "output_type": "execute_result",
          "data": {
            "text/plain": [
              "'Lilia'"
            ],
            "application/vnd.google.colaboratory.intrinsic+json": {
              "type": "string"
            }
          },
          "metadata": {},
          "execution_count": 71
        }
      ]
    },
    {
      "cell_type": "code",
      "source": [
        "print(type(equipos[4, 1, 2]))\n",
        "print(equipos[4, 1, 2].shape)\n",
        "print(equipos[4, 1, 2].size)"
      ],
      "metadata": {
        "colab": {
          "base_uri": "https://localhost:8080/"
        },
        "id": "fNMkLqs_Ad3I",
        "outputId": "66123917-4f61-4ec5-a252-2421b1730288"
      },
      "execution_count": null,
      "outputs": [
        {
          "output_type": "stream",
          "name": "stdout",
          "text": [
            "<class 'numpy.str_'>\n",
            "()\n",
            "1\n"
          ]
        }
      ]
    },
    {
      "cell_type": "markdown",
      "source": [
        "#Remplazos\n",
        "|Equipo 1| Equipo 2|\n",
        ":---:|:---:|\n",
        "|Paulina, Rigo, Paul|Kenia, Miguel, Carlos|\n"
      ],
      "metadata": {
        "id": "TaqppltmCJbi"
      }
    },
    {
      "cell_type": "code",
      "source": [
        "remplazos = np.array([['Paulina', 'Rigo', 'Paul'], \n",
        "               ['Kenia', 'Miguel', 'Carlos']])\n",
        "remplazos"
      ],
      "metadata": {
        "colab": {
          "base_uri": "https://localhost:8080/"
        },
        "id": "Ps7z0t7_CH7H",
        "outputId": "6061c12b-09b8-47c9-8da3-704bba345d18"
      },
      "execution_count": null,
      "outputs": [
        {
          "output_type": "execute_result",
          "data": {
            "text/plain": [
              "array([['Paulina', 'Rigo', 'Paul'],\n",
              "       ['Kenia', 'Miguel', 'Carlos']], dtype='<U7')"
            ]
          },
          "metadata": {},
          "execution_count": 6
        }
      ]
    },
    {
      "cell_type": "code",
      "source": [
        "remplazos.shape"
      ],
      "metadata": {
        "colab": {
          "base_uri": "https://localhost:8080/"
        },
        "id": "cp1S4CSxCW-a",
        "outputId": "c0fe7e0f-afce-4dac-958b-04bac1aafbcf"
      },
      "execution_count": null,
      "outputs": [
        {
          "output_type": "execute_result",
          "data": {
            "text/plain": [
              "(2, 3)"
            ]
          },
          "metadata": {},
          "execution_count": 76
        }
      ]
    },
    {
      "cell_type": "code",
      "source": [
        "equipos[4]"
      ],
      "metadata": {
        "colab": {
          "base_uri": "https://localhost:8080/"
        },
        "id": "0WgxyGAXCt62",
        "outputId": "83cac7b9-ee37-472f-a217-9635f2664cf4"
      },
      "execution_count": null,
      "outputs": [
        {
          "output_type": "execute_result",
          "data": {
            "text/plain": [
              "array([['Lucio', 'Ramy', 'Joaquín'],\n",
              "       ['Ricardo', 'Marco', 'Lilia']], dtype='<U8')"
            ]
          },
          "metadata": {},
          "execution_count": 78
        }
      ]
    },
    {
      "cell_type": "code",
      "source": [
        "equipos[4].shape"
      ],
      "metadata": {
        "colab": {
          "base_uri": "https://localhost:8080/"
        },
        "id": "A8YyKYnfC0rx",
        "outputId": "36c8bc88-086b-48f5-8554-87e81008b73c"
      },
      "execution_count": null,
      "outputs": [
        {
          "output_type": "execute_result",
          "data": {
            "text/plain": [
              "(2, 3)"
            ]
          },
          "metadata": {},
          "execution_count": 79
        }
      ]
    },
    {
      "cell_type": "code",
      "source": [
        "#Cambiar Elementos de un Arreglo\n",
        "equipos[4] = remplazos\n",
        "equipos"
      ],
      "metadata": {
        "colab": {
          "base_uri": "https://localhost:8080/"
        },
        "id": "oKsl5llhC4ez",
        "outputId": "12d2399d-d648-490b-9ebf-ca6da366d578"
      },
      "execution_count": null,
      "outputs": [
        {
          "output_type": "execute_result",
          "data": {
            "text/plain": [
              "array([[['Lilia', 'Antonio', 'Ricardo'],\n",
              "        ['Alonso', 'Jorge', 'Salvador']],\n",
              "\n",
              "       [['Mariana', 'Julian', 'Ricardo'],\n",
              "        ['Arturo', 'Ramy', 'Esteban']],\n",
              "\n",
              "       [['Arturo', 'Ricardo', 'Lucio'],\n",
              "        ['Jorge', 'Marco', 'Lilia']],\n",
              "\n",
              "       [['Alonso', 'Julian', 'Salvador'],\n",
              "        ['Ricardo', 'Jorge', 'Esteban']],\n",
              "\n",
              "       [['Paulina', 'Rigo', 'Paul'],\n",
              "        ['Kenia', 'Miguel', 'Carlos']]], dtype='<U8')"
            ]
          },
          "metadata": {},
          "execution_count": 7
        }
      ]
    },
    {
      "cell_type": "code",
      "source": [
        "#Cambiar 2 Elementos de un Arreglo\n",
        "equipos[2, 0, 0:2] = ['Julio', 'Ernesto']\n",
        "equipos"
      ],
      "metadata": {
        "colab": {
          "base_uri": "https://localhost:8080/"
        },
        "id": "Me1jnB4nyluV",
        "outputId": "be4a779a-2f6e-4241-ff5f-5a948f1c7805"
      },
      "execution_count": null,
      "outputs": [
        {
          "output_type": "execute_result",
          "data": {
            "text/plain": [
              "array([[['Lilia', 'Antonio', 'Ricardo'],\n",
              "        ['Alonso', 'Jorge', 'Salvador']],\n",
              "\n",
              "       [['Mariana', 'Julian', 'Ricardo'],\n",
              "        ['Arturo', 'Ramy', 'Esteban']],\n",
              "\n",
              "       [['Julio', 'Ernesto', 'Lucio'],\n",
              "        ['Jorge', 'Marco', 'Lilia']],\n",
              "\n",
              "       [['Alonso', 'Julian', 'Salvador'],\n",
              "        ['Ricardo', 'Jorge', 'Esteban']],\n",
              "\n",
              "       [['Paulina', 'Rigo', 'Paul'],\n",
              "        ['Kenia', 'Miguel', 'Carlos']]], dtype='<U8')"
            ]
          },
          "metadata": {},
          "execution_count": 10
        }
      ]
    },
    {
      "cell_type": "code",
      "source": [
        "#Cambiar un Solo Elemento\n",
        "equipos[3, 1, 2] = 'Esmeralda'\n",
        "equipos"
      ],
      "metadata": {
        "colab": {
          "base_uri": "https://localhost:8080/"
        },
        "id": "oG8Kvku0zMC4",
        "outputId": "b2b93daa-dee5-4644-d78d-a4c112a80334"
      },
      "execution_count": null,
      "outputs": [
        {
          "output_type": "execute_result",
          "data": {
            "text/plain": [
              "array([[['Lilia', 'Antonio', 'Ricardo'],\n",
              "        ['Alonso', 'Jorge', 'Salvador']],\n",
              "\n",
              "       [['Mariana', 'Julian', 'Ricardo'],\n",
              "        ['Arturo', 'Ramy', 'Esteban']],\n",
              "\n",
              "       [['Julio', 'Ernesto', 'Lucio'],\n",
              "        ['Jorge', 'Marco', 'Lilia']],\n",
              "\n",
              "       [['Alonso', 'Julian', 'Salvador'],\n",
              "        ['Ricardo', 'Jorge', 'Esmerald']],\n",
              "\n",
              "       [['Paulina', 'Rigo', 'Paul'],\n",
              "        ['Kenia', 'Miguel', 'Carlos']]], dtype='<U8')"
            ]
          },
          "metadata": {},
          "execution_count": 12
        }
      ]
    },
    {
      "cell_type": "code",
      "source": [
        "#Es posible identificar Elementos de una Dimencion usando Arreglos como Indices\n",
        "idx_1 = np.array([2, 0, 3])\n",
        "print(idx_1)\n",
        "print(equipos[idx_1])"
      ],
      "metadata": {
        "colab": {
          "base_uri": "https://localhost:8080/"
        },
        "id": "k0jGt2v7ztyg",
        "outputId": "244f006f-083b-49f5-8843-772b8e242f66"
      },
      "execution_count": null,
      "outputs": [
        {
          "output_type": "stream",
          "name": "stdout",
          "text": [
            "[2 0 3]\n",
            "[[['Julio' 'Ernesto' 'Lucio']\n",
            "  ['Jorge' 'Marco' 'Lilia']]\n",
            "\n",
            " [['Lilia' 'Antonio' 'Ricardo']\n",
            "  ['Alonso' 'Jorge' 'Salvador']]\n",
            "\n",
            " [['Alonso' 'Julian' 'Salvador']\n",
            "  ['Ricardo' 'Jorge' 'Esmerald']]]\n"
          ]
        }
      ]
    },
    {
      "cell_type": "code",
      "source": [
        "idx_2 = np.array([[ 0, 3], [1, 4]])\n",
        "print(idx_2)\n",
        "print(equipos[idx_2])\n",
        "print(equipos[idx_2].shape)"
      ],
      "metadata": {
        "colab": {
          "base_uri": "https://localhost:8080/"
        },
        "id": "yage_J0p0ts3",
        "outputId": "7a19c56c-af3c-4bdc-916b-fb5e8415f81b"
      },
      "execution_count": null,
      "outputs": [
        {
          "output_type": "stream",
          "name": "stdout",
          "text": [
            "[[0 3]\n",
            " [1 4]]\n",
            "[[[['Lilia' 'Antonio' 'Ricardo']\n",
            "   ['Alonso' 'Jorge' 'Salvador']]\n",
            "\n",
            "  [['Alonso' 'Julian' 'Salvador']\n",
            "   ['Ricardo' 'Jorge' 'Esmerald']]]\n",
            "\n",
            "\n",
            " [[['Mariana' 'Julian' 'Ricardo']\n",
            "   ['Arturo' 'Ramy' 'Esteban']]\n",
            "\n",
            "  [['Paulina' 'Rigo' 'Paul']\n",
            "   ['Kenia' 'Miguel' 'Carlos']]]]\n",
            "(2, 2, 2, 3)\n"
          ]
        }
      ]
    },
    {
      "cell_type": "code",
      "source": [
        "#Uso de Multiples Arreglos como Indices\n",
        "idx_x = np.array([0, 2])  #Lunes y Miercoles\n",
        "idx_y = np.array([0, 1])  #Equipo 1 y 2\n",
        "equipos[idx_x, idx_y]"
      ],
      "metadata": {
        "colab": {
          "base_uri": "https://localhost:8080/"
        },
        "id": "s8PSwgGz1nFo",
        "outputId": "1924ac3e-7177-45db-8da6-464c78fd68da"
      },
      "execution_count": null,
      "outputs": [
        {
          "output_type": "execute_result",
          "data": {
            "text/plain": [
              "array([['Lilia', 'Antonio', 'Ricardo'],\n",
              "       ['Jorge', 'Marco', 'Lilia']], dtype='<U8')"
            ]
          },
          "metadata": {},
          "execution_count": 18
        }
      ]
    },
    {
      "cell_type": "markdown",
      "source": [
        "#Broadcast\n"
      ],
      "metadata": {
        "id": "D8REedtB2u1k"
      }
    },
    {
      "cell_type": "code",
      "source": [
        "equipos[4, 0] = 'Fabian'\n",
        "equipos"
      ],
      "metadata": {
        "colab": {
          "base_uri": "https://localhost:8080/"
        },
        "id": "8oCPX_Az2tym",
        "outputId": "7be25296-f4ad-45e2-f9c0-326f7614f3bb"
      },
      "execution_count": null,
      "outputs": [
        {
          "output_type": "execute_result",
          "data": {
            "text/plain": [
              "array([[['Lilia', 'Antonio', 'Ricardo'],\n",
              "        ['Alonso', 'Jorge', 'Salvador']],\n",
              "\n",
              "       [['Mariana', 'Julian', 'Ricardo'],\n",
              "        ['Arturo', 'Ramy', 'Esteban']],\n",
              "\n",
              "       [['Julio', 'Ernesto', 'Lucio'],\n",
              "        ['Jorge', 'Marco', 'Lilia']],\n",
              "\n",
              "       [['Alonso', 'Julian', 'Salvador'],\n",
              "        ['Ricardo', 'Jorge', 'Esmerald']],\n",
              "\n",
              "       [['Fabian', 'Fabian', 'Fabian'],\n",
              "        ['Kenia', 'Miguel', 'Carlos']]], dtype='<U8')"
            ]
          },
          "metadata": {},
          "execution_count": 19
        }
      ]
    },
    {
      "cell_type": "code",
      "source": [
        "#Un Mismo Arreglo para todos los Elementos de la Dimencion\n",
        "equipos[2] = np.array(['Hugo', 'Paco', 'Luis'])\n",
        "equipos"
      ],
      "metadata": {
        "colab": {
          "base_uri": "https://localhost:8080/"
        },
        "id": "txjERdfT256c",
        "outputId": "af1044e5-2efa-44f6-ab6b-b30f2a840fca"
      },
      "execution_count": null,
      "outputs": [
        {
          "output_type": "execute_result",
          "data": {
            "text/plain": [
              "array([[['Lilia', 'Antonio', 'Ricardo'],\n",
              "        ['Alonso', 'Jorge', 'Salvador']],\n",
              "\n",
              "       [['Mariana', 'Julian', 'Ricardo'],\n",
              "        ['Arturo', 'Ramy', 'Esteban']],\n",
              "\n",
              "       [['Hugo', 'Paco', 'Luis'],\n",
              "        ['Hugo', 'Paco', 'Luis']],\n",
              "\n",
              "       [['Alonso', 'Julian', 'Salvador'],\n",
              "        ['Ricardo', 'Jorge', 'Esmerald']],\n",
              "\n",
              "       [['Fabian', 'Fabian', 'Fabian'],\n",
              "        ['Kenia', 'Miguel', 'Carlos']]], dtype='<U8')"
            ]
          },
          "metadata": {},
          "execution_count": 20
        }
      ]
    }
  ]
}