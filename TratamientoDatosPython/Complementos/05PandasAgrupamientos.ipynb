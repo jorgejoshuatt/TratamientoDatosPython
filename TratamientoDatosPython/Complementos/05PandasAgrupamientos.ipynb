{
  "cells": [
    {
      "cell_type": "markdown",
      "metadata": {
        "id": "view-in-github",
        "colab_type": "text"
      },
      "source": [
        "<a href=\"https://colab.research.google.com/github/jorgejoshuatt/TratamientoDatosPython/blob/main/TratamientoDatosPython/Complementos/05PandasAgrupamientos.ipynb\" target=\"_parent\"><img src=\"https://colab.research.google.com/assets/colab-badge.svg\" alt=\"Open In Colab\"/></a>"
      ]
    },
    {
      "cell_type": "code",
      "execution_count": null,
      "metadata": {
        "id": "gwFvS4BErTPL"
      },
      "outputs": [],
      "source": [
        "import pandas as pd\n",
        "import numpy as np"
      ]
    },
    {
      "cell_type": "code",
      "execution_count": null,
      "metadata": {
        "id": "SB5htP16rTPN",
        "outputId": "b56b6b47-9ab9-4910-dd2a-3388610b790d"
      },
      "outputs": [
        {
          "data": {
            "text/html": [
              "<div>\n",
              "<style scoped>\n",
              "    .dataframe tbody tr th:only-of-type {\n",
              "        vertical-align: middle;\n",
              "    }\n",
              "\n",
              "    .dataframe tbody tr th {\n",
              "        vertical-align: top;\n",
              "    }\n",
              "\n",
              "    .dataframe thead th {\n",
              "        text-align: right;\n",
              "    }\n",
              "</style>\n",
              "<table border=\"1\" class=\"dataframe\">\n",
              "  <thead>\n",
              "    <tr style=\"text-align: right;\">\n",
              "      <th></th>\n",
              "      <th>nrow</th>\n",
              "      <th>id</th>\n",
              "      <th>dia</th>\n",
              "      <th>aerolinea</th>\n",
              "      <th>destino</th>\n",
              "      <th>region</th>\n",
              "      <th>dest_size</th>\n",
              "      <th>area_abordaje</th>\n",
              "      <th>fecha_salida</th>\n",
              "      <th>espera_min</th>\n",
              "      <th>limpieza</th>\n",
              "      <th>seguridad</th>\n",
              "      <th>satisfaccion</th>\n",
              "      <th>espera_hr</th>\n",
              "      <th>espera_tipo</th>\n",
              "      <th>tipo_dia_semana</th>\n",
              "    </tr>\n",
              "  </thead>\n",
              "  <tbody>\n",
              "    <tr>\n",
              "      <th>0</th>\n",
              "      <td>0</td>\n",
              "      <td>1351</td>\n",
              "      <td>martes</td>\n",
              "      <td>UNITED INTL</td>\n",
              "      <td>KANSAI</td>\n",
              "      <td>asia</td>\n",
              "      <td>Hub</td>\n",
              "      <td>Gates 91-102</td>\n",
              "      <td>2018-12-31</td>\n",
              "      <td>115.0</td>\n",
              "      <td>Limpio</td>\n",
              "      <td>Neutral</td>\n",
              "      <td>Muy satisfecho</td>\n",
              "      <td>1.916667</td>\n",
              "      <td>medio</td>\n",
              "      <td>weekday</td>\n",
              "    </tr>\n",
              "    <tr>\n",
              "      <th>1</th>\n",
              "      <td>1</td>\n",
              "      <td>373</td>\n",
              "      <td>viernes</td>\n",
              "      <td>ALASKA</td>\n",
              "      <td>SAN JOSE DEL CABO</td>\n",
              "      <td>canada / mexico</td>\n",
              "      <td>Small</td>\n",
              "      <td>Gates 50-59</td>\n",
              "      <td>2018-12-31</td>\n",
              "      <td>135.0</td>\n",
              "      <td>Limpio</td>\n",
              "      <td>Muy seguro</td>\n",
              "      <td>Muy satisfecho</td>\n",
              "      <td>2.250000</td>\n",
              "      <td>medio</td>\n",
              "      <td>weekday</td>\n",
              "    </tr>\n",
              "    <tr>\n",
              "      <th>2</th>\n",
              "      <td>2</td>\n",
              "      <td>2820</td>\n",
              "      <td>jueves</td>\n",
              "      <td>DELTA</td>\n",
              "      <td>LOS ÁNGELES</td>\n",
              "      <td>oeste de ee. uu.</td>\n",
              "      <td>Hub</td>\n",
              "      <td>Gates 40-48</td>\n",
              "      <td>2018-12-31</td>\n",
              "      <td>70.0</td>\n",
              "      <td>Promedio</td>\n",
              "      <td>Algo seguro</td>\n",
              "      <td>Neutral</td>\n",
              "      <td>1.166667</td>\n",
              "      <td>medio</td>\n",
              "      <td>weekday</td>\n",
              "    </tr>\n",
              "    <tr>\n",
              "      <th>3</th>\n",
              "      <td>3</td>\n",
              "      <td>1157</td>\n",
              "      <td>martes</td>\n",
              "      <td>SUDOESTE</td>\n",
              "      <td>LOS ÁNGELES</td>\n",
              "      <td>oeste de ee. uu.</td>\n",
              "      <td>Hub</td>\n",
              "      <td>Gates 20-39</td>\n",
              "      <td>2018-12-31</td>\n",
              "      <td>190.0</td>\n",
              "      <td>Limpio</td>\n",
              "      <td>Muy seguro</td>\n",
              "      <td>Algo satisfecho</td>\n",
              "      <td>3.166667</td>\n",
              "      <td>largo</td>\n",
              "      <td>weekday</td>\n",
              "    </tr>\n",
              "    <tr>\n",
              "      <th>4</th>\n",
              "      <td>4</td>\n",
              "      <td>2992</td>\n",
              "      <td>miércoles</td>\n",
              "      <td>AMERICAN</td>\n",
              "      <td>MIAMI</td>\n",
              "      <td>east us</td>\n",
              "      <td>Hub</td>\n",
              "      <td>Gates 50-59</td>\n",
              "      <td>2018-12-31</td>\n",
              "      <td>559.0</td>\n",
              "      <td>Sucio</td>\n",
              "      <td>Muy seguro</td>\n",
              "      <td>Algo satisfecho</td>\n",
              "      <td>9.316667</td>\n",
              "      <td>largo</td>\n",
              "      <td>weekday</td>\n",
              "    </tr>\n",
              "    <tr>\n",
              "      <th>...</th>\n",
              "      <td>...</td>\n",
              "      <td>...</td>\n",
              "      <td>...</td>\n",
              "      <td>...</td>\n",
              "      <td>...</td>\n",
              "      <td>...</td>\n",
              "      <td>...</td>\n",
              "      <td>...</td>\n",
              "      <td>...</td>\n",
              "      <td>...</td>\n",
              "      <td>...</td>\n",
              "      <td>...</td>\n",
              "      <td>...</td>\n",
              "      <td>...</td>\n",
              "      <td>...</td>\n",
              "      <td>...</td>\n",
              "    </tr>\n",
              "    <tr>\n",
              "      <th>2473</th>\n",
              "      <td>2804</td>\n",
              "      <td>1475</td>\n",
              "      <td>martes</td>\n",
              "      <td>ALASKA</td>\n",
              "      <td>NUEVA YORK-JFK</td>\n",
              "      <td>este de ee. uu.</td>\n",
              "      <td>Hub</td>\n",
              "      <td>Gates 50-59</td>\n",
              "      <td>2018-12-31</td>\n",
              "      <td>280.0</td>\n",
              "      <td>Algo limpio</td>\n",
              "      <td>Neutral</td>\n",
              "      <td>Algo satisfecho</td>\n",
              "      <td>4.666667</td>\n",
              "      <td>largo</td>\n",
              "      <td>weekday</td>\n",
              "    </tr>\n",
              "    <tr>\n",
              "      <th>2474</th>\n",
              "      <td>2805</td>\n",
              "      <td>2222</td>\n",
              "      <td>jueves</td>\n",
              "      <td>SUDOESTE</td>\n",
              "      <td>PHOENIX</td>\n",
              "      <td>oeste de ee. uu.</td>\n",
              "      <td>Hub</td>\n",
              "      <td>Gates 20-39</td>\n",
              "      <td>2018-12-31</td>\n",
              "      <td>165.0</td>\n",
              "      <td>Limpio</td>\n",
              "      <td>Muy seguro</td>\n",
              "      <td>Muy satisfecho</td>\n",
              "      <td>2.750000</td>\n",
              "      <td>medio</td>\n",
              "      <td>weekday</td>\n",
              "    </tr>\n",
              "    <tr>\n",
              "      <th>2475</th>\n",
              "      <td>2806</td>\n",
              "      <td>2684</td>\n",
              "      <td>viernes</td>\n",
              "      <td>UNITED</td>\n",
              "      <td>ORLANDO</td>\n",
              "      <td>este de ee. uu.</td>\n",
              "      <td>Hub</td>\n",
              "      <td>Gates 70-90</td>\n",
              "      <td>2018-12-31</td>\n",
              "      <td>92.0</td>\n",
              "      <td>Limpio</td>\n",
              "      <td>Muy seguro</td>\n",
              "      <td>Muy satisfecho</td>\n",
              "      <td>1.533333</td>\n",
              "      <td>medio</td>\n",
              "      <td>weekday</td>\n",
              "    </tr>\n",
              "    <tr>\n",
              "      <th>2476</th>\n",
              "      <td>2807</td>\n",
              "      <td>2549</td>\n",
              "      <td>martes</td>\n",
              "      <td>JETBLUE</td>\n",
              "      <td>LONG BEACH</td>\n",
              "      <td>oeste de ee. uu.</td>\n",
              "      <td>Small</td>\n",
              "      <td>Gates 1-12</td>\n",
              "      <td>2018-12-31</td>\n",
              "      <td>95.0</td>\n",
              "      <td>Limpio</td>\n",
              "      <td>Algo seguro</td>\n",
              "      <td>Muy satisfecho</td>\n",
              "      <td>1.583333</td>\n",
              "      <td>medio</td>\n",
              "      <td>weekday</td>\n",
              "    </tr>\n",
              "    <tr>\n",
              "      <th>2477</th>\n",
              "      <td>2808</td>\n",
              "      <td>2162</td>\n",
              "      <td>sábado</td>\n",
              "      <td>ESTE DE CHINA</td>\n",
              "      <td>QINGDAO</td>\n",
              "      <td>asia</td>\n",
              "      <td>large</td>\n",
              "      <td>Gates 1-12</td>\n",
              "      <td>2018-12-31</td>\n",
              "      <td>220.0</td>\n",
              "      <td>Limpio</td>\n",
              "      <td>Muy seguro</td>\n",
              "      <td>Algo satisfecho</td>\n",
              "      <td>3.666667</td>\n",
              "      <td>largo</td>\n",
              "      <td>weekend</td>\n",
              "    </tr>\n",
              "  </tbody>\n",
              "</table>\n",
              "<p>2478 rows × 16 columns</p>\n",
              "</div>"
            ],
            "text/plain": [
              "      nrow    id        dia      aerolinea            destino  \\\n",
              "0        0  1351     martes    UNITED INTL             KANSAI   \n",
              "1        1   373    viernes         ALASKA  SAN JOSE DEL CABO   \n",
              "2        2  2820     jueves          DELTA        LOS ÁNGELES   \n",
              "3        3  1157     martes       SUDOESTE        LOS ÁNGELES   \n",
              "4        4  2992  miércoles       AMERICAN              MIAMI   \n",
              "...    ...   ...        ...            ...                ...   \n",
              "2473  2804  1475     martes         ALASKA     NUEVA YORK-JFK   \n",
              "2474  2805  2222     jueves       SUDOESTE            PHOENIX   \n",
              "2475  2806  2684    viernes         UNITED            ORLANDO   \n",
              "2476  2807  2549     martes        JETBLUE         LONG BEACH   \n",
              "2477  2808  2162     sábado  ESTE DE CHINA            QINGDAO   \n",
              "\n",
              "                region dest_size area_abordaje fecha_salida  espera_min  \\\n",
              "0                 asia       Hub  Gates 91-102   2018-12-31       115.0   \n",
              "1      canada / mexico     Small   Gates 50-59   2018-12-31       135.0   \n",
              "2     oeste de ee. uu.       Hub   Gates 40-48   2018-12-31        70.0   \n",
              "3     oeste de ee. uu.       Hub   Gates 20-39   2018-12-31       190.0   \n",
              "4              east us       Hub   Gates 50-59   2018-12-31       559.0   \n",
              "...                ...       ...           ...          ...         ...   \n",
              "2473   este de ee. uu.       Hub   Gates 50-59   2018-12-31       280.0   \n",
              "2474  oeste de ee. uu.       Hub   Gates 20-39   2018-12-31       165.0   \n",
              "2475   este de ee. uu.       Hub   Gates 70-90   2018-12-31        92.0   \n",
              "2476  oeste de ee. uu.     Small    Gates 1-12   2018-12-31        95.0   \n",
              "2477              asia     large    Gates 1-12   2018-12-31       220.0   \n",
              "\n",
              "         limpieza    seguridad     satisfaccion  espera_hr espera_tipo  \\\n",
              "0          Limpio      Neutral   Muy satisfecho   1.916667       medio   \n",
              "1          Limpio   Muy seguro   Muy satisfecho   2.250000       medio   \n",
              "2        Promedio  Algo seguro          Neutral   1.166667       medio   \n",
              "3          Limpio   Muy seguro  Algo satisfecho   3.166667       largo   \n",
              "4           Sucio   Muy seguro  Algo satisfecho   9.316667       largo   \n",
              "...           ...          ...              ...        ...         ...   \n",
              "2473  Algo limpio      Neutral  Algo satisfecho   4.666667       largo   \n",
              "2474       Limpio   Muy seguro   Muy satisfecho   2.750000       medio   \n",
              "2475       Limpio   Muy seguro   Muy satisfecho   1.533333       medio   \n",
              "2476       Limpio  Algo seguro   Muy satisfecho   1.583333       medio   \n",
              "2477       Limpio   Muy seguro  Algo satisfecho   3.666667       largo   \n",
              "\n",
              "     tipo_dia_semana  \n",
              "0            weekday  \n",
              "1            weekday  \n",
              "2            weekday  \n",
              "3            weekday  \n",
              "4            weekday  \n",
              "...              ...  \n",
              "2473         weekday  \n",
              "2474         weekday  \n",
              "2475         weekday  \n",
              "2476         weekday  \n",
              "2477         weekend  \n",
              "\n",
              "[2478 rows x 16 columns]"
            ]
          },
          "execution_count": 3,
          "metadata": {},
          "output_type": "execute_result"
        }
      ],
      "source": [
        "df=pd.read_csv('datos/aerolinea.csv')\n",
        "df"
      ]
    },
    {
      "cell_type": "code",
      "execution_count": null,
      "metadata": {
        "id": "FtK_d-xArTPP",
        "outputId": "87c19621-b4f1-4f1a-c4a3-01ac189b5799"
      },
      "outputs": [
        {
          "data": {
            "text/plain": [
              "dia\n",
              "domingo      267\n",
              "jueves       489\n",
              "lunes         91\n",
              "martes       535\n",
              "miércoles    518\n",
              "sábado       210\n",
              "viernes      368\n",
              "Name: nrow, dtype: int64"
            ]
          },
          "execution_count": 4,
          "metadata": {},
          "output_type": "execute_result"
        }
      ],
      "source": [
        "#Agrupar y contar\n",
        "df.groupby(\"dia\").nrow.count()"
      ]
    },
    {
      "cell_type": "code",
      "execution_count": null,
      "metadata": {
        "id": "ZEMePP66rTPP",
        "outputId": "a1190182-ea4a-4037-cf07-779d1a7f72d7"
      },
      "outputs": [
        {
          "data": {
            "text/plain": [
              "tipo_dia_semana\n",
              "weekday    2001\n",
              "weekend     477\n",
              "Name: nrow, dtype: int64"
            ]
          },
          "execution_count": 5,
          "metadata": {},
          "output_type": "execute_result"
        }
      ],
      "source": [
        "#Agrupar y contar \n",
        "df.groupby(\"tipo_dia_semana\").nrow.count()"
      ]
    },
    {
      "cell_type": "code",
      "execution_count": null,
      "metadata": {
        "id": "lDJyqRldrTPQ",
        "outputId": "da7bd426-ccac-4da4-a468-7ffba4df0be8"
      },
      "outputs": [
        {
          "data": {
            "text/plain": [
              "dia\n",
              "domingo      180.513109\n",
              "jueves       153.867838\n",
              "lunes        209.714286\n",
              "martes       148.118674\n",
              "miércoles    174.844349\n",
              "sábado       163.728571\n",
              "viernes      178.182065\n",
              "Name: espera_min, dtype: float64"
            ]
          },
          "execution_count": 6,
          "metadata": {},
          "output_type": "execute_result"
        }
      ],
      "source": [
        "#Agrupar y obtener la media de un valor\n",
        "df.groupby(\"dia\").espera_min.mean()"
      ]
    },
    {
      "cell_type": "code",
      "execution_count": null,
      "metadata": {
        "id": "JvFVzOiCrTPQ",
        "outputId": "ac384843-92b2-4537-fce3-5d47c5d876c3"
      },
      "outputs": [
        {
          "data": {
            "text/plain": [
              "dia\n",
              "domingo       863.0\n",
              "jueves       1210.0\n",
              "lunes         970.0\n",
              "martes       1365.0\n",
              "miércoles     885.0\n",
              "sábado        695.0\n",
              "viernes       900.0\n",
              "Name: espera_min, dtype: float64"
            ]
          },
          "execution_count": 7,
          "metadata": {},
          "output_type": "execute_result"
        }
      ],
      "source": [
        "#Agrupar y obtener el valor maximo\n",
        "df.groupby(\"dia\").espera_min.max()"
      ]
    },
    {
      "cell_type": "code",
      "execution_count": null,
      "metadata": {
        "id": "MtcfuTQLrTPR",
        "outputId": "a54f8251-a72a-4baa-cffc-8018b0053535"
      },
      "outputs": [
        {
          "data": {
            "text/plain": [
              "dia\n",
              "domingo      25.0\n",
              "jueves       15.0\n",
              "lunes        75.0\n",
              "martes       15.0\n",
              "miércoles    35.0\n",
              "sábado       55.0\n",
              "viernes      32.0\n",
              "Name: espera_min, dtype: float64"
            ]
          },
          "execution_count": 8,
          "metadata": {},
          "output_type": "execute_result"
        }
      ],
      "source": [
        "#Agrupar y obtener el valor minimo\n",
        "df.groupby(\"dia\").espera_min.min()"
      ]
    },
    {
      "cell_type": "code",
      "execution_count": null,
      "metadata": {
        "id": "5uiyaYPqrTPS",
        "outputId": "8a0e7b87-1369-4953-fd88-9af84a58fb78"
      },
      "outputs": [
        {
          "data": {
            "text/plain": [
              "region   dia      \n",
              "asia     domingo      259.772727\n",
              "         jueves       198.055556\n",
              "         martes       176.969697\n",
              "         miércoles    184.794521\n",
              "         sábado       199.842105\n",
              "                         ...    \n",
              "west us  jueves       145.648292\n",
              "         martes       130.351852\n",
              "         miércoles    127.727273\n",
              "         sábado       173.125000\n",
              "         viernes       97.000000\n",
              "Name: espera_min, Length: 69, dtype: float64"
            ]
          },
          "execution_count": 9,
          "metadata": {},
          "output_type": "execute_result"
        }
      ],
      "source": [
        "#Agrupar por dos campos y obtener la media de un valor\n",
        "df.groupby([\"region\",\"dia\"]).espera_min.mean()"
      ]
    }
  ],
  "metadata": {
    "interpreter": {
      "hash": "2a135e850d838773d3d1f6efaa6c6727bf9613042e37d04b7d37a69382a7617b"
    },
    "kernelspec": {
      "display_name": "Python 3.9.5 64-bit",
      "language": "python",
      "name": "python3"
    },
    "language_info": {
      "codemirror_mode": {
        "name": "ipython",
        "version": 3
      },
      "file_extension": ".py",
      "mimetype": "text/x-python",
      "name": "python",
      "nbconvert_exporter": "python",
      "pygments_lexer": "ipython3",
      "version": "3.9.5"
    },
    "orig_nbformat": 4,
    "colab": {
      "name": "05PandasAgrupamientos.ipynb",
      "provenance": [],
      "include_colab_link": true
    }
  },
  "nbformat": 4,
  "nbformat_minor": 0
}