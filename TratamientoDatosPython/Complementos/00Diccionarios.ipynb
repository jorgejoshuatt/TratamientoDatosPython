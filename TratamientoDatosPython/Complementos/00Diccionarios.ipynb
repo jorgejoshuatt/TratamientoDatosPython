{
  "cells": [
    {
      "cell_type": "markdown",
      "metadata": {
        "id": "view-in-github",
        "colab_type": "text"
      },
      "source": [
        "<a href=\"https://colab.research.google.com/github/jorgejoshuatt/TratamientoDatosPython/blob/main/TratamientoDatosPython/Complementos/00Diccionarios.ipynb\" target=\"_parent\"><img src=\"https://colab.research.google.com/assets/colab-badge.svg\" alt=\"Open In Colab\"/></a>"
      ]
    },
    {
      "cell_type": "markdown",
      "metadata": {
        "id": "SqhYg-rnoA2x"
      },
      "source": [
        "JORGE JOSHUA TREJO MARTINEZ"
      ]
    },
    {
      "cell_type": "markdown",
      "metadata": {
        "id": "LP3TnXeuoA22"
      },
      "source": [
        "# Ejemplos basicos de *Diccionarios*\n",
        "[*Documentación*] (https://docs.python.org/es/3/c-api/dict.hmtl) El diccionario define una relación uno a uno entre claves y valores"
      ]
    },
    {
      "cell_type": "code",
      "execution_count": null,
      "metadata": {
        "id": "se04XTURoA23",
        "outputId": "bb247209-ae3e-4994-d3fc-4c266ba9527b"
      },
      "outputs": [
        {
          "data": {
            "text/plain": [
              "'Tokyo:38140000;Delhi:26454000;Shanghai:24484000;Mumbai:21357000;Sao Paulo:21297000;CDMX:24800000'"
            ]
          },
          "execution_count": 5,
          "metadata": {},
          "output_type": "execute_result"
        }
      ],
      "source": [
        "datos=('Tokyo:38140000;Delhi:26454000;Shanghai:24484000;Mumbai:21357000;Sao Paulo:21297000;CDMX:24800000')\n",
        "\n",
        "datos"
      ]
    },
    {
      "cell_type": "code",
      "execution_count": null,
      "metadata": {
        "id": "TGkB7w__oA26",
        "outputId": "d39e832e-e7e1-48e6-bb67-e37563b79b22"
      },
      "outputs": [
        {
          "data": {
            "text/plain": [
              "{'Tokyo': 38140000,\n",
              " 'Delhi': 26454000,\n",
              " 'Shanghai': 24484000,\n",
              " 'Mumbai': 21357000,\n",
              " 'Sao Paulo': 21297000,\n",
              " 'CDMX': 24800000}"
            ]
          },
          "execution_count": 6,
          "metadata": {},
          "output_type": "execute_result"
        }
      ],
      "source": [
        "ciudades={}\n",
        "for registro in datos.split(';'):\n",
        "    ciudad,poblacion=registro.split(':')\n",
        "    ciudades[ciudad]=int(poblacion)\n",
        "\n",
        "ciudades"
      ]
    },
    {
      "cell_type": "code",
      "execution_count": null,
      "metadata": {
        "id": "JWp6yGHwoA27",
        "outputId": "b467b506-c679-4e40-cf3e-14c55a0005a0"
      },
      "outputs": [
        {
          "ename": "KeyError",
          "evalue": "'S'",
          "output_type": "error",
          "traceback": [
            "\u001b[1;31m---------------------------------------------------------------------------\u001b[0m",
            "\u001b[1;31mKeyError\u001b[0m                                  Traceback (most recent call last)",
            "Input \u001b[1;32mIn [25]\u001b[0m, in \u001b[0;36m<module>\u001b[1;34m\u001b[0m\n\u001b[0;32m      5\u001b[0m \u001b[38;5;28;01mfor\u001b[39;00m letra \u001b[38;5;129;01min\u001b[39;00m palabra:\n\u001b[0;32m      6\u001b[0m     \u001b[38;5;28;01mif\u001b[39;00m letra \u001b[38;5;129;01min\u001b[39;00m palabra:\n\u001b[1;32m----> 7\u001b[0m         contar_letras[letra]\u001b[38;5;241m+\u001b[39m\u001b[38;5;241m=\u001b[39m\u001b[38;5;241m1\u001b[39m\n\u001b[0;32m      8\u001b[0m     \u001b[38;5;28;01melse\u001b[39;00m:\n\u001b[0;32m      9\u001b[0m         contar_letras\u001b[38;5;241m=\u001b[39m\u001b[38;5;241m1\u001b[39m\n",
            "\u001b[1;31mKeyError\u001b[0m: 'S'"
          ]
        }
      ],
      "source": [
        "palabra=\"Supercalifragilisticoespialidoso\"\n",
        "\n",
        "contar_letras={}\n",
        "\n",
        "for letra in contar_letras:\n",
        "    if letra in contar_letras:\n",
        "        contar_letras[letra]+=1\n",
        "    else:\n",
        "        contar_letras=1\n",
        "contar_letras"
      ]
    },
    {
      "cell_type": "code",
      "execution_count": null,
      "metadata": {
        "id": "sz0YU8wcoA28",
        "outputId": "f6de1da7-d941-4a79-b1fa-7f7a4b3a5fc4"
      },
      "outputs": [
        {
          "name": "stdout",
          "output_type": "stream",
          "text": [
            "['mesa', 'movil', 'barco', 'coche', 'avion', 'bandeja', 'casa', 'monitor', 'carretera', 'arco']\n",
            "['mesa', 'movil', 'buque', 'coche', 'avioneta', 'bandeja', 'casa', 'teclado', 'carretera', 'arco', 'cartera']\n"
          ]
        }
      ],
      "source": [
        "palabras = [\n",
        "    'mesa', 'movil', 'barco','coche','avion','bandeja','casa','monitor','carretera',\n",
        "    'arco',\n",
        "]\n",
        "\n",
        "palabras2 = [\n",
        "    'mesa','movil','buque','coche','avioneta','bandeja','casa','teclado','carretera','arco',\n",
        "    'cartera'\n",
        "]\n",
        "\n",
        "print(palabras)\n",
        "print(palabras2)"
      ]
    },
    {
      "cell_type": "code",
      "execution_count": null,
      "metadata": {
        "id": "xIttqM2boA29",
        "outputId": "ca9a2cf4-3d2a-42e9-989d-f2200a4c0328"
      },
      "outputs": [
        {
          "data": {
            "text/plain": [
              "{'m': ['mesa', 'movil', 'monitor'],\n",
              " 'b': ['barco', 'bandeja'],\n",
              " 'c': ['coche', 'casa', 'carretera'],\n",
              " 'a': ['avion', 'arco']}"
            ]
          },
          "execution_count": 10,
          "metadata": {},
          "output_type": "execute_result"
        }
      ],
      "source": [
        "grupo_palabras={}\n",
        "\n",
        "for palabra in palabras:\n",
        "    key=palabra[0]\n",
        "    if key in grupo_palabras:\n",
        "        grupo_palabras[key].append(palabra)\n",
        "    else:\n",
        "        grupo_palabras[key]=[palabra]\n",
        "grupo_palabras"
      ]
    },
    {
      "cell_type": "code",
      "execution_count": null,
      "metadata": {
        "id": "gbvinRxRoA2_",
        "outputId": "a05a3d45-220a-497d-df2e-a0c033334287"
      },
      "outputs": [
        {
          "name": "stdout",
          "output_type": "stream",
          "text": [
            "m\n",
            "b\n",
            "c\n",
            "a\n"
          ]
        }
      ],
      "source": [
        "#Visualizar las llaves del diccionario\n",
        "for k in grupo_palabras.keys():\n",
        "    print(k)"
      ]
    },
    {
      "cell_type": "code",
      "execution_count": null,
      "metadata": {
        "id": "7HhrqCXPoA3A",
        "outputId": "7b5b6e13-eb03-4a5b-f796-80999bb84ba4"
      },
      "outputs": [
        {
          "name": "stdout",
          "output_type": "stream",
          "text": [
            "['mesa', 'movil', 'monitor']\n",
            "['barco', 'bandeja']\n",
            "['coche', 'casa', 'carretera']\n",
            "['avion', 'arco']\n"
          ]
        }
      ],
      "source": [
        "#Visualizar los valores del diccionario\n",
        "for v in grupo_palabras.values():\n",
        "    print(v)"
      ]
    },
    {
      "cell_type": "code",
      "execution_count": null,
      "metadata": {
        "id": "9nLr0sYHoA3B",
        "outputId": "b020d4ff-665c-46ed-eefd-c92cc670cbe8"
      },
      "outputs": [
        {
          "name": "stdout",
          "output_type": "stream",
          "text": [
            "('m', ['mesa', 'movil', 'monitor'])\n",
            "('b', ['barco', 'bandeja'])\n",
            "('c', ['coche', 'casa', 'carretera'])\n",
            "('a', ['avion', 'arco'])\n"
          ]
        }
      ],
      "source": [
        "#Visualizar los items del diccionario\n",
        "for i in grupo_palabras.items():\n",
        "    print(i)"
      ]
    },
    {
      "cell_type": "code",
      "execution_count": null,
      "metadata": {
        "id": "gqfk5o-koA3C",
        "outputId": "d1d5743e-77cd-46ae-8b12-6cc54333c926"
      },
      "outputs": [
        {
          "data": {
            "text/plain": [
              "['Python', 'Ciencia de datos', 'Big Data', 'Python', 'Base de datos']"
            ]
          },
          "execution_count": 15,
          "metadata": {},
          "output_type": "execute_result"
        }
      ],
      "source": [
        "lista_cursos = ['Python', 'Ciencia de datos', 'Big Data', 'Python', 'Base de datos']\n",
        "\n",
        "lista_cursos"
      ]
    },
    {
      "cell_type": "code",
      "execution_count": null,
      "metadata": {
        "id": "niXANml5oA3D",
        "outputId": "c3f6ee7b-4e45-4f72-f298-e1f13e20fd70"
      },
      "outputs": [
        {
          "data": {
            "text/plain": [
              "{'Base de datos', 'Big Data', 'Ciencia de datos', 'Python'}"
            ]
          },
          "execution_count": 16,
          "metadata": {},
          "output_type": "execute_result"
        }
      ],
      "source": [
        "set_cursos=set(lista_cursos)\n",
        "\n",
        "set_cursos"
      ]
    },
    {
      "cell_type": "code",
      "execution_count": null,
      "metadata": {
        "id": "gx_kFViJoA3E",
        "outputId": "5d06f3af-5682-45ba-f127-e411c858e353"
      },
      "outputs": [
        {
          "data": {
            "text/plain": [
              "{'Base de datos', 'Mineria', 'Pandas', 'Python'}"
            ]
          },
          "execution_count": 17,
          "metadata": {},
          "output_type": "execute_result"
        }
      ],
      "source": [
        "set_cursos2 = set(['Python', 'Pandas', 'Mineria', 'Base de datos'])\n",
        "set_cursos2"
      ]
    },
    {
      "cell_type": "code",
      "execution_count": null,
      "metadata": {
        "id": "TMf25qp7oA3F",
        "outputId": "1eac8fff-12bb-4714-d5f7-0b7023e2de61"
      },
      "outputs": [
        {
          "name": "stdout",
          "output_type": "stream",
          "text": [
            "{'Python', 'Base de datos'}\n",
            "{'Python', 'Base de datos'}\n"
          ]
        }
      ],
      "source": [
        "#JOIN\n",
        "print(set_cursos & set_cursos2)\n",
        "print(set_cursos.intersection(set_cursos2))"
      ]
    },
    {
      "cell_type": "code",
      "execution_count": null,
      "metadata": {
        "id": "M-Ac6CwVoA3F",
        "outputId": "7d1d3943-b285-4a9e-b5b4-66d4110a9624"
      },
      "outputs": [
        {
          "name": "stdout",
          "output_type": "stream",
          "text": [
            "{'Ciencia de datos', 'Big Data', 'Pandas', 'Mineria', 'Python', 'Base de datos'}\n",
            "{'Ciencia de datos', 'Big Data', 'Pandas', 'Mineria', 'Python', 'Base de datos'}\n"
          ]
        }
      ],
      "source": [
        "#UNION\n",
        "print(set_cursos | set_cursos2)\n",
        "print(set_cursos.union(set_cursos2))"
      ]
    },
    {
      "cell_type": "code",
      "execution_count": null,
      "metadata": {
        "id": "Q3hMx5kcoA3G",
        "outputId": "f57d8ec5-e54f-4678-9ac4-1a0d8c3077b8"
      },
      "outputs": [
        {
          "name": "stdout",
          "output_type": "stream",
          "text": [
            "{'Big Data', 'Ciencia de datos'}\n",
            "{'Big Data', 'Ciencia de datos'}\n"
          ]
        }
      ],
      "source": [
        "#DIFERENCIA\n",
        "print(set_cursos - set_cursos2)\n",
        "print(set_cursos.difference(set_cursos2))"
      ]
    },
    {
      "cell_type": "code",
      "execution_count": null,
      "metadata": {
        "id": "pnQ-CGeUoA3G",
        "outputId": "38cc3628-d462-4501-c5b6-d3eaea05f536"
      },
      "outputs": [
        {
          "name": "stdout",
          "output_type": "stream",
          "text": [
            "{'Ciencia de datos', 'Big Data', 'Pandas', 'Mineria'}\n",
            "{'Ciencia de datos', 'Big Data', 'Pandas', 'Mineria'}\n"
          ]
        }
      ],
      "source": [
        "#DIFERENCIA\n",
        "print(set_cursos ^ set_cursos2)\n",
        "print(set_cursos.symmetric_difference(set_cursos2))"
      ]
    }
  ],
  "metadata": {
    "interpreter": {
      "hash": "2a135e850d838773d3d1f6efaa6c6727bf9613042e37d04b7d37a69382a7617b"
    },
    "kernelspec": {
      "display_name": "Python 3.9.5 64-bit",
      "name": "python3"
    },
    "language_info": {
      "codemirror_mode": {
        "name": "ipython",
        "version": 3
      },
      "file_extension": ".py",
      "mimetype": "text/x-python",
      "name": "python",
      "nbconvert_exporter": "python",
      "pygments_lexer": "ipython3",
      "version": "3.9.5"
    },
    "orig_nbformat": 4,
    "colab": {
      "name": "00Diccionarios.ipynb",
      "provenance": [],
      "include_colab_link": true
    }
  },
  "nbformat": 4,
  "nbformat_minor": 0
}