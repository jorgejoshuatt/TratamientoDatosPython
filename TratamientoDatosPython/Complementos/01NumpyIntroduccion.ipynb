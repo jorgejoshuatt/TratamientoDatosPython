{
  "cells": [
    {
      "cell_type": "markdown",
      "metadata": {
        "id": "view-in-github",
        "colab_type": "text"
      },
      "source": [
        "<a href=\"https://colab.research.google.com/github/jorgejoshuatt/TratamientoDatosPython/blob/main/TratamientoDatosPython/Complementos/01NumpyIntroduccion.ipynb\" target=\"_parent\"><img src=\"https://colab.research.google.com/assets/colab-badge.svg\" alt=\"Open In Colab\"/></a>"
      ]
    },
    {
      "cell_type": "markdown",
      "metadata": {
        "id": "uS-FlIv7ozla"
      },
      "source": [
        "JORGE JOSHUA TREJO MARTINEZ"
      ]
    },
    {
      "cell_type": "code",
      "execution_count": null,
      "metadata": {
        "id": "GgcJKkrrozlf"
      },
      "outputs": [],
      "source": [
        "\"\"\"\n",
        "Si no existe la libreria la instalamos\n",
        "!pip install numpy\n",
        "\"\"\"\n"
      ]
    },
    {
      "cell_type": "code",
      "execution_count": null,
      "metadata": {
        "id": "3YYysftXozlh"
      },
      "outputs": [],
      "source": [
        "import numpy as np"
      ]
    },
    {
      "cell_type": "code",
      "execution_count": null,
      "metadata": {
        "id": "oZ1A5UZhozlh",
        "outputId": "be5c6eba-3ccd-473c-de1f-cfe8e738eefe"
      },
      "outputs": [
        {
          "name": "stdout",
          "output_type": "stream",
          "text": [
            "[1, 2, 3]\n",
            "[1 2 3]\n"
          ]
        }
      ],
      "source": [
        "lista=[1,2,3]\n",
        "arreglo=np.array(lista)\n",
        "print(lista)\n",
        "print(arreglo)"
      ]
    },
    {
      "cell_type": "code",
      "execution_count": null,
      "metadata": {
        "id": "3lTPgFhYozlj",
        "outputId": "a019c139-09e1-4be0-9bb5-67d2b2b6ffe8"
      },
      "outputs": [
        {
          "name": "stdout",
          "output_type": "stream",
          "text": [
            "<class 'list'>\n",
            "<class 'numpy.ndarray'>\n"
          ]
        }
      ],
      "source": [
        "print(type(lista))\n",
        "print(type(arreglo))"
      ]
    },
    {
      "cell_type": "code",
      "execution_count": null,
      "metadata": {
        "id": "aa4MUn5lozlj",
        "outputId": "f2519a9a-4323-421f-e233-8cb53a9164fb"
      },
      "outputs": [
        {
          "data": {
            "text/plain": [
              "(3,)"
            ]
          },
          "execution_count": 4,
          "metadata": {},
          "output_type": "execute_result"
        }
      ],
      "source": [
        "#Shape \n",
        "arreglo.shape"
      ]
    },
    {
      "cell_type": "code",
      "execution_count": null,
      "metadata": {
        "id": "ngr4lB4zozlk",
        "outputId": "700659bf-aa42-45ee-93ca-eaf62c356822"
      },
      "outputs": [
        {
          "data": {
            "text/plain": [
              "array([[1, 2, 3],\n",
              "       [4, 5, 5]])"
            ]
          },
          "execution_count": 6,
          "metadata": {},
          "output_type": "execute_result"
        }
      ],
      "source": [
        "a=np.array([(1,2,3),(4,5,5)])\n",
        "a"
      ]
    },
    {
      "cell_type": "code",
      "execution_count": null,
      "metadata": {
        "id": "yyCh89Emozlk",
        "outputId": "19dfe7e1-9a80-415d-9799-c9d8c88d00b7"
      },
      "outputs": [
        {
          "data": {
            "text/plain": [
              "array([1, 2, 3])"
            ]
          },
          "execution_count": 7,
          "metadata": {},
          "output_type": "execute_result"
        }
      ],
      "source": [
        "b=np.array((1,2,3))\n",
        "b"
      ]
    },
    {
      "cell_type": "code",
      "execution_count": null,
      "metadata": {
        "id": "8b5q_I5Yozll",
        "outputId": "abc41b48-a5d2-4dff-a3ce-1b5ad8658491"
      },
      "outputs": [
        {
          "data": {
            "text/plain": [
              "(2, 3)"
            ]
          },
          "execution_count": 8,
          "metadata": {},
          "output_type": "execute_result"
        }
      ],
      "source": [
        "a.shape"
      ]
    },
    {
      "cell_type": "code",
      "execution_count": null,
      "metadata": {
        "id": "T2IZ4xq9ozll",
        "outputId": "8882cfba-151a-4fc4-9219-4ab1032be10b"
      },
      "outputs": [
        {
          "name": "stdout",
          "output_type": "stream",
          "text": [
            "Valor: 1,tipo: <class 'numpy.int32'>\n",
            "Valor: 2,tipo: <class 'numpy.int32'>\n",
            "Valor: 3,tipo: <class 'numpy.int32'>\n"
          ]
        }
      ],
      "source": [
        "#Iterar un arreglo numpy\n",
        "for i in arreglo:\n",
        "    print('Valor: {},tipo: {}'.format(i,type(i)))"
      ]
    },
    {
      "cell_type": "code",
      "execution_count": null,
      "metadata": {
        "id": "sq-AuMS2ozlm",
        "outputId": "79829a56-47eb-4422-db60-4e9e33005072"
      },
      "outputs": [
        {
          "data": {
            "text/plain": [
              "array(['c', 3, (12, 6, True)], dtype=object)"
            ]
          },
          "execution_count": 10,
          "metadata": {},
          "output_type": "execute_result"
        }
      ],
      "source": [
        "c=np.array(['c',3,(12,6,True)],dtype=object)\n",
        "c"
      ]
    },
    {
      "cell_type": "code",
      "execution_count": null,
      "metadata": {
        "id": "HNXGJJNxozlm",
        "outputId": "c8f3864d-3c9d-4299-c407-53e798b8ff39"
      },
      "outputs": [
        {
          "name": "stdout",
          "output_type": "stream",
          "text": [
            "Valor: c,tipo: <class 'str'>\n",
            "Valor: 3,tipo: <class 'int'>\n",
            "Valor: (12, 6, True),tipo: <class 'tuple'>\n"
          ]
        }
      ],
      "source": [
        "#Iterar un arreglo numpy\n",
        "for i in c:\n",
        "    print('Valor: {},tipo: {}'.format(i,type(i)))"
      ]
    },
    {
      "cell_type": "code",
      "execution_count": null,
      "metadata": {
        "id": "zaqH_JIlozln",
        "outputId": "2865a82d-b119-4ea6-e69b-f8ca10152295"
      },
      "outputs": [
        {
          "data": {
            "text/plain": [
              "array([[1, 2, 3],\n",
              "       [4, 5, 6],\n",
              "       [7, 8, 9]])"
            ]
          },
          "execution_count": 12,
          "metadata": {},
          "output_type": "execute_result"
        }
      ],
      "source": [
        "y=np.array([[1,2,3],[4,5,6],[7,8,9]])\n",
        "y"
      ]
    },
    {
      "cell_type": "code",
      "execution_count": null,
      "metadata": {
        "id": "PI_brt99ozlo",
        "outputId": "f9ed0aed-0fa6-46de-99d9-3ca9b67b8ccf"
      },
      "outputs": [
        {
          "name": "stdout",
          "output_type": "stream",
          "text": [
            "(3, 3)\n",
            "2\n",
            "9\n"
          ]
        }
      ],
      "source": [
        "print(y.shape)\n",
        "print(y.ndim)\n",
        "print(y.size)"
      ]
    },
    {
      "cell_type": "code",
      "execution_count": null,
      "metadata": {
        "id": "Y-Oisr7Vozlo",
        "outputId": "861ef00a-9b59-47d4-dfcb-18bffe13970b"
      },
      "outputs": [
        {
          "data": {
            "text/plain": [
              "array([[[1, 2],\n",
              "        [3, 4]],\n",
              "\n",
              "       [[5, 6],\n",
              "        [7, 8]]])"
            ]
          },
          "execution_count": 18,
          "metadata": {},
          "output_type": "execute_result"
        }
      ],
      "source": [
        "#Arreglo tridimensional\n",
        "t=np.array([[[1,2],[3,4]],\n",
        "            [[5,6],[7,8]]])\n",
        "\n",
        "t"
      ]
    },
    {
      "cell_type": "code",
      "execution_count": null,
      "metadata": {
        "id": "lPI9f7S-ozlo",
        "outputId": "1812ee07-bf57-4656-ef93-9ca658c8f4a7"
      },
      "outputs": [
        {
          "name": "stdout",
          "output_type": "stream",
          "text": [
            "(2, 2, 2)\n",
            "3\n",
            "8\n"
          ]
        }
      ],
      "source": [
        "print(t.shape)\n",
        "print(t.ndim)\n",
        "print(t.size)"
      ]
    },
    {
      "cell_type": "code",
      "execution_count": null,
      "metadata": {
        "id": "qSG5H4U0ozlp",
        "outputId": "7c5111aa-65d0-4db9-93a5-67d0879b0917"
      },
      "outputs": [
        {
          "name": "stdout",
          "output_type": "stream",
          "text": [
            "[[11.  2.]\n",
            " [15. 43.]]\n",
            "float64\n"
          ]
        }
      ],
      "source": [
        "#Tipo Float\n",
        "f=np.array(((11.0,2),(15.0,43)))\n",
        "print(f)\n",
        "print(f.dtype)"
      ]
    },
    {
      "cell_type": "code",
      "execution_count": null,
      "metadata": {
        "id": "ynhr1L0Nozlq",
        "outputId": "49bb9acf-0c43-4e6b-f649-c8534c550172"
      },
      "outputs": [
        {
          "name": "stdout",
          "output_type": "stream",
          "text": [
            "[[101   0]\n",
            " [101  -1]]\n",
            "int8\n"
          ]
        }
      ],
      "source": [
        "#Tipo Byte\n",
        "b=np.array(((101,-256),(101,255)),dtype=np.byte)\n",
        "print(b)\n",
        "print(b.dtype)"
      ]
    },
    {
      "cell_type": "code",
      "execution_count": null,
      "metadata": {
        "id": "FPtJ-xrTozlq",
        "outputId": "f8d78d3a-a0bd-4ef2-85e4-f0377d7324ac"
      },
      "outputs": [
        {
          "name": "stdout",
          "output_type": "stream",
          "text": [
            "[[  0.  +2.56000000e+01j  11.24+0.00000000e+00j]\n",
            " [-21.89-1.57021744e+07j   0.  +0.00000000e+00j]]\n",
            "complex128\n"
          ]
        }
      ],
      "source": [
        "#Tipos complejos\n",
        "c=np.array([[25.6j,11.24],[-21.890-15702174.43j,0]])\n",
        "\n",
        "print(c)\n",
        "print(c.dtype)"
      ]
    },
    {
      "cell_type": "code",
      "execution_count": null,
      "metadata": {
        "id": "LlwyhJlDozlr",
        "outputId": "72373a15-83b9-4535-8aa1-0687571f4367"
      },
      "outputs": [
        {
          "name": "stdout",
          "output_type": "stream",
          "text": [
            "[[ True  True]\n",
            " [False False]]\n",
            "bool\n"
          ]
        }
      ],
      "source": [
        "#Tipos booleanos\n",
        "bo=np.array(((1,'Hola'),(False,0)),dtype=np.bool_)\n",
        "print(bo)\n",
        "print(bo.dtype)"
      ]
    },
    {
      "cell_type": "code",
      "execution_count": null,
      "metadata": {
        "id": "N69-1t8Qozlr",
        "outputId": "a2433d75-0d8b-4c61-ef0c-8cc0913b82d3"
      },
      "outputs": [
        {
          "name": "stdout",
          "output_type": "stream",
          "text": [
            "[['Manzana' 'Naranja']\n",
            " ['Fresa Nacional' 'Uva']]\n"
          ]
        },
        {
          "data": {
            "text/plain": [
              "dtype('<U14')"
            ]
          },
          "execution_count": 27,
          "metadata": {},
          "output_type": "execute_result"
        }
      ],
      "source": [
        "#String\n",
        "print(np.array((['Manzana', 'Naranja'],['Fresa Nacional', 'Uva']))\n",
        ")\n",
        "\n",
        "np.array((['Manzana', 'Naranja'],['Fresa Nacional', 'Uva'])).dtype\n"
      ]
    },
    {
      "cell_type": "code",
      "execution_count": null,
      "metadata": {
        "id": "SxJM7KPvozls",
        "outputId": "39de704a-e84d-4aa8-c42c-93380457dda7"
      },
      "outputs": [
        {
          "name": "stdout",
          "output_type": "stream",
          "text": [
            "[[b'Manzana' b'Naranja']\n",
            " [b'Fresa Nacional' b'Uva']]\n",
            "|S14\n"
          ]
        }
      ],
      "source": [
        "print(np.array((['Manzana', 'Naranja'],['Fresa Nacional', 'Uva']),dtype=np.string_))\n",
        "print(np.array((['Manzana', 'Naranja'],['Fresa Nacional', 'Uva']),dtype=np.string_).dtype)"
      ]
    },
    {
      "cell_type": "code",
      "execution_count": null,
      "metadata": {
        "id": "bO9ZiB-vozls",
        "outputId": "89b79b64-db33-40e9-92e6-cce27b27e151"
      },
      "outputs": [
        {
          "name": "stdout",
          "output_type": "stream",
          "text": [
            "[['2020-08-25T23:59:45.231000' '2021-07-23T00:00:00.000000']\n",
            " ['2020-12-22T00:00:00.000000' '2020-03-01T11:25:00.000000']]\n",
            "datetime64[us]\n",
            "(2, 2)\n"
          ]
        }
      ],
      "source": [
        "#Fecha\n",
        "from datetime import datetime\n",
        "fechas = np.array([[np.datetime64(\"2020-08-25T23:59:45.231\"), np.datetime64(\"2021-07-23\")], [np.datetime64(datetime(year=2020, month=12, day=22)), np.datetime64(\"2020-03-01T11:25\")]])\n",
        "print(fechas)\n",
        "print(fechas.dtype)\n",
        "print(fechas.shape)"
      ]
    },
    {
      "cell_type": "code",
      "execution_count": null,
      "metadata": {
        "id": "dq2ig7C3ozlt",
        "outputId": "3e54d5a4-893c-470e-fd21-949dcc598e16"
      },
      "outputs": [
        {
          "data": {
            "text/plain": [
              "array([1, 2, 3])"
            ]
          },
          "execution_count": 35,
          "metadata": {},
          "output_type": "execute_result"
        }
      ],
      "source": [
        "#Operaciones con arreglos\n",
        "arreglo"
      ]
    },
    {
      "cell_type": "code",
      "execution_count": null,
      "metadata": {
        "id": "hDIsHiMRozlt",
        "outputId": "16a337d8-64cd-4de2-ca0b-1f6c637a6512"
      },
      "outputs": [
        {
          "data": {
            "text/plain": [
              "array([100, 200, 300])"
            ]
          },
          "execution_count": 36,
          "metadata": {},
          "output_type": "execute_result"
        }
      ],
      "source": [
        "arreglo*100"
      ]
    },
    {
      "cell_type": "code",
      "execution_count": null,
      "metadata": {
        "id": "ym0GUwViozlu",
        "outputId": "45c0c698-617a-4b01-e240-59e61db019cd"
      },
      "outputs": [
        {
          "data": {
            "text/plain": [
              "array([[ 1,  0],\n",
              "       [-1,  1]])"
            ]
          },
          "execution_count": 37,
          "metadata": {},
          "output_type": "execute_result"
        }
      ],
      "source": [
        "n=np.array(([1,0],[-1,1]))\n",
        "n"
      ]
    },
    {
      "cell_type": "code",
      "execution_count": null,
      "metadata": {
        "id": "EuQ44G8Cozlu",
        "outputId": "7da02dae-ae3a-46d1-ace8-22b83fe773db"
      },
      "outputs": [
        {
          "data": {
            "text/plain": [
              "array([[2.5, 1.5],\n",
              "       [0.5, 2.5]])"
            ]
          },
          "execution_count": 38,
          "metadata": {},
          "output_type": "execute_result"
        }
      ],
      "source": [
        "n+1.5"
      ]
    },
    {
      "cell_type": "markdown",
      "metadata": {
        "id": "CqT3csGlozlv"
      },
      "source": [
        "##Equipos\n",
        "\n",
        "||Equipo 1| Equipo 2|\n",
        "|:--:|:---:|:---:|\n",
        "|**Lunes**|Juan, Olga, Alejandra|Alonso, Jorge, Salvador|\n",
        "|**Martes**|Oscar, Julian, Alejandra|Arturo, Irene, Esteban|\n",
        "|**Miércoles**|Arturo, Alejandra, Lucio|Jorge, Marco, Juan|\n",
        "|**Jueves**|Alonso, Julian, Salvador|Alejandra, Jorge, Esteban|\n",
        "|**Viernes**|Lucio, Irene, Joaquín|Alejandra, Marco, Juan|\n"
      ]
    },
    {
      "cell_type": "code",
      "execution_count": null,
      "metadata": {
        "id": "Kkg8yf9aozlv",
        "outputId": "0f4792cd-b63c-42c2-ce77-89f81d357ba6"
      },
      "outputs": [
        {
          "data": {
            "text/plain": [
              "array([[['Juan', 'Olga', 'Alejandra'],\n",
              "        ['Alonso', 'Jorge', 'Salvador']],\n",
              "\n",
              "       [['Oscar', 'Julian', 'Alejandra'],\n",
              "        ['Arturo', 'Irene', 'Esteban']],\n",
              "\n",
              "       [['Arturo', 'Alejandra', 'Lucio'],\n",
              "        ['Jorge', 'Marco', 'Juan']],\n",
              "\n",
              "       [['Alonso', 'Julian', 'Salvador'],\n",
              "        ['Alejandra', 'Jorge', 'Esteban']],\n",
              "\n",
              "       [['Lucio', 'Irene', 'Joaquín'],\n",
              "        ['Alejandra', 'Marco', 'Juan']]], dtype='<U9')"
            ]
          },
          "execution_count": 40,
          "metadata": {},
          "output_type": "execute_result"
        }
      ],
      "source": [
        "equipos=np.array([[['Juan', 'Olga', 'Alejandra'], ['Alonso', 'Jorge', 'Salvador']],\n",
        "                    [['Oscar', 'Julian', 'Alejandra'], ['Arturo', 'Irene', 'Esteban']],\n",
        "                    [['Arturo', 'Alejandra', 'Lucio'], ['Jorge', 'Marco', 'Juan']],\n",
        "                    [['Alonso', 'Julian', 'Salvador'], ['Alejandra', 'Jorge', 'Esteban']],\n",
        "                    [['Lucio', 'Irene', 'Joaquín'], ['Alejandra', 'Marco', 'Juan']]])\n",
        "\n",
        "equipos"
      ]
    },
    {
      "cell_type": "code",
      "execution_count": null,
      "metadata": {
        "id": "OEG1fiWFozlw",
        "outputId": "5e059b49-f845-4da4-9f7f-3c572fefd432"
      },
      "outputs": [
        {
          "name": "stdout",
          "output_type": "stream",
          "text": [
            "3\n",
            "(5, 2, 3)\n",
            "30\n"
          ]
        }
      ],
      "source": [
        "print(equipos.ndim)\n",
        "print(equipos.shape)\n",
        "print(equipos.size)"
      ]
    },
    {
      "cell_type": "code",
      "execution_count": null,
      "metadata": {
        "id": "b5GJdVcoozlw",
        "outputId": "8bba8bf4-fbcc-4934-d97f-1bccfc24daab"
      },
      "outputs": [
        {
          "name": "stdout",
          "output_type": "stream",
          "text": [
            "[[['Arturo' 'Alejandra' 'Lucio']\n",
            "  ['Jorge' 'Marco' 'Juan']]]\n",
            "(1, 2, 3)\n"
          ]
        }
      ],
      "source": [
        "#Slide de arreglo\n",
        "#Ver los equipos del miercoles\n",
        "\n",
        "print(equipos[2:3])\n",
        "print(equipos[2:3].shape)"
      ]
    },
    {
      "cell_type": "code",
      "execution_count": null,
      "metadata": {
        "id": "pZXYSI3lozlx",
        "outputId": "e56bf2b7-b0f8-4f28-d8dc-b95d4e212b6e"
      },
      "outputs": [
        {
          "name": "stdout",
          "output_type": "stream",
          "text": [
            "[['Jorge' 'Marco' 'Juan']]\n",
            "(1, 3)\n"
          ]
        }
      ],
      "source": [
        "#Ver los equipos 2 del miercoles\n",
        "print(equipos[2:3,1])\n",
        "print(equipos[2:3,1].shape)"
      ]
    },
    {
      "cell_type": "code",
      "execution_count": null,
      "metadata": {
        "id": "lpiahaweozlx",
        "outputId": "b87bc5a4-be99-4791-96e0-586e2fa6bed3"
      },
      "outputs": [
        {
          "data": {
            "text/plain": [
              "array([['Alonso', 'Jorge'],\n",
              "       ['Arturo', 'Irene'],\n",
              "       ['Jorge', 'Marco'],\n",
              "       ['Alejandra', 'Jorge'],\n",
              "       ['Alejandra', 'Marco']], dtype='<U9')"
            ]
          },
          "execution_count": 47,
          "metadata": {},
          "output_type": "execute_result"
        }
      ],
      "source": [
        "#Ver los dos primeros integrantes del equipo 2\n",
        "equipos[:,1,0:2]"
      ]
    },
    {
      "cell_type": "code",
      "execution_count": null,
      "metadata": {
        "id": "5bg_MlCkozlx",
        "outputId": "2256bf38-8f14-4b43-99ba-0cdcc2ce02c5"
      },
      "outputs": [
        {
          "name": "stdout",
          "output_type": "stream",
          "text": [
            "Irene\n",
            "<class 'numpy.str_'>\n",
            "()\n"
          ]
        }
      ],
      "source": [
        "#Ver el segundo integrante del equipo1 del viernes\n",
        "print(equipos[4,0,1])\n",
        "print(type(equipos[4,0,1]))\n",
        "print(equipos[4,0,1].shape)\n"
      ]
    },
    {
      "cell_type": "markdown",
      "metadata": {
        "id": "uIvxBk3Kozly"
      },
      "source": [
        "|Equipo 1| Equipo 2|\n",
        ":---:|:---:|\n",
        "|Johnatan, Ringo, Paula|Kenia, Miguel, Carlos|\n"
      ]
    },
    {
      "cell_type": "code",
      "execution_count": null,
      "metadata": {
        "id": "AYkMpjtZozly",
        "outputId": "0426a4e7-204e-4fe9-f809-85c61d0799a9"
      },
      "outputs": [
        {
          "data": {
            "text/plain": [
              "array([['Johnatan', 'Ringo', 'Paula'],\n",
              "       ['Kenia', 'Miguel', 'Carlos']], dtype='<U8')"
            ]
          },
          "execution_count": 50,
          "metadata": {},
          "output_type": "execute_result"
        }
      ],
      "source": [
        "reemplazos=np.array([['Johnatan', 'Ringo', 'Paula'], \n",
        "               ['Kenia', 'Miguel', 'Carlos']])\n",
        "\n",
        "reemplazos"
      ]
    },
    {
      "cell_type": "code",
      "execution_count": null,
      "metadata": {
        "id": "7pos5-b4ozlz",
        "outputId": "a0c11e9a-ee85-4c79-f2cf-2af5d7aa0981"
      },
      "outputs": [
        {
          "name": "stdout",
          "output_type": "stream",
          "text": [
            "(5, 2, 3)\n",
            "(2, 3)\n"
          ]
        }
      ],
      "source": [
        "print(equipos.shape)\n",
        "print(reemplazos.shape)"
      ]
    },
    {
      "cell_type": "code",
      "execution_count": null,
      "metadata": {
        "id": "bnpBowCJozlz",
        "outputId": "ce383652-b96d-4b3d-e5e0-3bc3a09dbb51"
      },
      "outputs": [
        {
          "data": {
            "text/plain": [
              "array([['Lucio', 'Irene', 'Joaquín'],\n",
              "       ['Alejandra', 'Marco', 'Juan']], dtype='<U9')"
            ]
          },
          "execution_count": 52,
          "metadata": {},
          "output_type": "execute_result"
        }
      ],
      "source": [
        "#Equipos del viernes\n",
        "equipos[4]"
      ]
    },
    {
      "cell_type": "code",
      "execution_count": null,
      "metadata": {
        "id": "5KjxWry1ozlz",
        "outputId": "02e570ff-8447-4050-83b2-3c33d6b4d5af"
      },
      "outputs": [
        {
          "data": {
            "text/plain": [
              "array([['Johnatan', 'Ringo', 'Paula'],\n",
              "       ['Kenia', 'Miguel', 'Carlos']], dtype='<U9')"
            ]
          },
          "execution_count": 53,
          "metadata": {},
          "output_type": "execute_result"
        }
      ],
      "source": [
        "#Reemplazar equipos del viernes\n",
        "equipos[4]=reemplazos\n",
        "equipos[4]\n"
      ]
    },
    {
      "cell_type": "code",
      "execution_count": null,
      "metadata": {
        "id": "qdsM-aCrozl0",
        "outputId": "e15f32a8-e24e-4ebc-c303-44d79963f297"
      },
      "outputs": [
        {
          "data": {
            "text/plain": [
              "array(['Arturo', 'Irene', 'Esteban'], dtype='<U9')"
            ]
          },
          "execution_count": 54,
          "metadata": {},
          "output_type": "execute_result"
        }
      ],
      "source": [
        "#Equipo2 del martes\n",
        "equipos[1,1]"
      ]
    },
    {
      "cell_type": "code",
      "execution_count": null,
      "metadata": {
        "id": "GYBsWogNozl0",
        "outputId": "477010c3-b18c-48f4-e617-07d346643444"
      },
      "outputs": [
        {
          "data": {
            "text/plain": [
              "array(['Patricia', 'Genaro', 'Lucia'], dtype='<U9')"
            ]
          },
          "execution_count": 55,
          "metadata": {},
          "output_type": "execute_result"
        }
      ],
      "source": [
        "#Reemplazar por nuevos valores\n",
        "equipos[1,1]=['Patricia','Genaro','Lucia']\n",
        "equipos[1,1]"
      ]
    },
    {
      "cell_type": "code",
      "execution_count": null,
      "metadata": {
        "id": "gp84fuY1ozl0",
        "outputId": "c16d3748-3fbc-4105-c062-f3c8bd46248a"
      },
      "outputs": [
        {
          "data": {
            "text/plain": [
              "array(['Alonso', 'Julian'], dtype='<U9')"
            ]
          },
          "execution_count": 56,
          "metadata": {},
          "output_type": "execute_result"
        }
      ],
      "source": [
        "#Primeros 2 integrantes del equipo 1 del jueves\n",
        "equipos[3,0,0:2]"
      ]
    },
    {
      "cell_type": "code",
      "execution_count": null,
      "metadata": {
        "id": "thaRIDVmozl1",
        "outputId": "512cdc97-a08e-4fca-e4c0-6ec204f30c9e"
      },
      "outputs": [
        {
          "data": {
            "text/plain": [
              "array(['Amanda', 'Julieta'], dtype='<U9')"
            ]
          },
          "execution_count": 57,
          "metadata": {},
          "output_type": "execute_result"
        }
      ],
      "source": [
        "#Reemplazar a los Primeros 2 integrantes del equipo 1 del jueves\n",
        "equipos[3,0,0:2]=['Amanda','Julieta']\n",
        "equipos[3,0,0:2]"
      ]
    },
    {
      "cell_type": "code",
      "execution_count": null,
      "metadata": {
        "id": "GFHUzxa9ozl1",
        "outputId": "4f250318-50bf-4f60-9472-7c85fa45c1fe"
      },
      "outputs": [
        {
          "data": {
            "text/plain": [
              "array([[6.23042070e-307, 4.67296746e-307],\n",
              "       [1.69121096e-306,             nan]])"
            ]
          },
          "execution_count": 4,
          "metadata": {},
          "output_type": "execute_result"
        }
      ],
      "source": [
        "#ndarray genera arreglos sin un tipo de datos definidos\n",
        "np.ndarray((2,2), dtype=np.float_)"
      ]
    },
    {
      "cell_type": "code",
      "execution_count": null,
      "metadata": {
        "id": "tSkJVtSgozl1",
        "outputId": "2de88b92-fe62-49ab-c9f1-74f92035e1d4"
      },
      "outputs": [
        {
          "data": {
            "text/plain": [
              "array([[[[1., 1., 1., 1., 1., 1.],\n",
              "         [1., 1., 1., 1., 1., 1.],\n",
              "         [1., 1., 1., 1., 1., 1.]],\n",
              "\n",
              "        [[1., 1., 1., 1., 1., 1.],\n",
              "         [1., 1., 1., 1., 1., 1.],\n",
              "         [1., 1., 1., 1., 1., 1.]],\n",
              "\n",
              "        [[1., 1., 1., 1., 1., 1.],\n",
              "         [1., 1., 1., 1., 1., 1.],\n",
              "         [1., 1., 1., 1., 1., 1.]]],\n",
              "\n",
              "\n",
              "       [[[1., 1., 1., 1., 1., 1.],\n",
              "         [1., 1., 1., 1., 1., 1.],\n",
              "         [1., 1., 1., 1., 1., 1.]],\n",
              "\n",
              "        [[1., 1., 1., 1., 1., 1.],\n",
              "         [1., 1., 1., 1., 1., 1.],\n",
              "         [1., 1., 1., 1., 1., 1.]],\n",
              "\n",
              "        [[1., 1., 1., 1., 1., 1.],\n",
              "         [1., 1., 1., 1., 1., 1.],\n",
              "         [1., 1., 1., 1., 1., 1.]]]])"
            ]
          },
          "execution_count": 6,
          "metadata": {},
          "output_type": "execute_result"
        }
      ],
      "source": [
        "#ones genera un arreglo llenado con 1s\n",
        "np.ones((2,3,3,6))"
      ]
    },
    {
      "cell_type": "code",
      "execution_count": null,
      "metadata": {
        "id": "AZavHVbqozl1",
        "outputId": "b19a55c1-6636-482c-ed26-288f534c47e7"
      },
      "outputs": [
        {
          "data": {
            "text/plain": [
              "array([[False, False, False],\n",
              "       [False, False, False],\n",
              "       [False, False, False]])"
            ]
          },
          "execution_count": 8,
          "metadata": {},
          "output_type": "execute_result"
        }
      ],
      "source": [
        "#zeros genera un arreglo llenado con 0s\n",
        "np.zeros((3,3),dtype=np.bool_)"
      ]
    },
    {
      "cell_type": "code",
      "execution_count": null,
      "metadata": {
        "id": "iQ69D810ozl2",
        "outputId": "1ee386da-a18c-4e1c-dbb1-50d39dc6e917"
      },
      "outputs": [
        {
          "data": {
            "text/plain": [
              "array([ 3,  6,  9, 12, 15, 18])"
            ]
          },
          "execution_count": 9,
          "metadata": {},
          "output_type": "execute_result"
        }
      ],
      "source": [
        "#arange genera un arreglo con valores definidos en un rango\n",
        "#arange(<inicio>,<fin>,<incremento> dtype)\n",
        "np.arange(3,20,3)"
      ]
    },
    {
      "cell_type": "code",
      "execution_count": null,
      "metadata": {
        "id": "xkMNXTkOozl2",
        "outputId": "b1908f91-01b7-42ed-df17-fafb5cb3a151"
      },
      "outputs": [
        {
          "data": {
            "text/plain": [
              "array([-0.3, -0.1,  0.1,  0.3,  0.5,  0.7,  0.9])"
            ]
          },
          "execution_count": 10,
          "metadata": {},
          "output_type": "execute_result"
        }
      ],
      "source": [
        "np.arange(-0.3,1.0,.2)"
      ]
    },
    {
      "cell_type": "code",
      "execution_count": null,
      "metadata": {
        "id": "SrxA24VHozl2",
        "outputId": "5ae93508-fc4d-44e0-cb58-47d776c3ef19"
      },
      "outputs": [
        {
          "data": {
            "text/plain": [
              "array([0.        , 0.02040816, 0.04081633, 0.06122449, 0.08163265,\n",
              "       0.10204082, 0.12244898, 0.14285714, 0.16326531, 0.18367347,\n",
              "       0.20408163, 0.2244898 , 0.24489796, 0.26530612, 0.28571429,\n",
              "       0.30612245, 0.32653061, 0.34693878, 0.36734694, 0.3877551 ,\n",
              "       0.40816327, 0.42857143, 0.44897959, 0.46938776, 0.48979592,\n",
              "       0.51020408, 0.53061224, 0.55102041, 0.57142857, 0.59183673,\n",
              "       0.6122449 , 0.63265306, 0.65306122, 0.67346939, 0.69387755,\n",
              "       0.71428571, 0.73469388, 0.75510204, 0.7755102 , 0.79591837,\n",
              "       0.81632653, 0.83673469, 0.85714286, 0.87755102, 0.89795918,\n",
              "       0.91836735, 0.93877551, 0.95918367, 0.97959184, 1.        ])"
            ]
          },
          "execution_count": 13,
          "metadata": {},
          "output_type": "execute_result"
        }
      ],
      "source": [
        "#linspace genera un arreglo unidimensional con una secuencia lineal de numeros dentro de un rango\n",
        "#linspace(<inicio>,<fin>,num=<segmentos> dtype)\n",
        "np.linspace(0,1)"
      ]
    },
    {
      "cell_type": "code",
      "execution_count": null,
      "metadata": {
        "id": "ysfw-Mvvozl3",
        "outputId": "d6262562-7d14-4a93-9f8e-805945d3a67a"
      },
      "outputs": [
        {
          "data": {
            "text/plain": [
              "array([0.        , 0.05263158, 0.10526316, 0.15789474, 0.21052632,\n",
              "       0.26315789, 0.31578947, 0.36842105, 0.42105263, 0.47368421,\n",
              "       0.52631579, 0.57894737, 0.63157895, 0.68421053, 0.73684211,\n",
              "       0.78947368, 0.84210526, 0.89473684, 0.94736842, 1.        ])"
            ]
          },
          "execution_count": 12,
          "metadata": {},
          "output_type": "execute_result"
        }
      ],
      "source": [
        "np.linspace(0,1,20)"
      ]
    },
    {
      "cell_type": "code",
      "execution_count": null,
      "metadata": {
        "id": "3PplpkANozl3"
      },
      "outputs": [],
      "source": [
        "#Copiar un arreglo\n",
        "a1=np.linspace(0,1,20)\n",
        "a1\n",
        "a2=np.copy(a1)"
      ]
    },
    {
      "cell_type": "code",
      "execution_count": null,
      "metadata": {
        "id": "-mNsw7-Sozl3"
      },
      "outputs": [],
      "source": [
        "#Escribir un arreglo en un archivo de texto\n",
        "#savetxt()\n",
        "np.savetxt('a1.txt',a1)"
      ]
    },
    {
      "cell_type": "code",
      "execution_count": null,
      "metadata": {
        "id": "Qd0xvXXhozl4"
      },
      "outputs": [],
      "source": [
        "a3=np.ndarray((2,2), dtype=np.float_)\n",
        "np.savetxt('a3.txt',a3, delimiter='|')"
      ]
    },
    {
      "cell_type": "code",
      "execution_count": null,
      "metadata": {
        "id": "MWfTwiQxozl4",
        "outputId": "9e295e48-7cde-4ad3-ba4c-0355b4907764"
      },
      "outputs": [
        {
          "name": "stdout",
          "output_type": "stream",
          "text": [
            " El volumen de la unidad C no tiene etiqueta.\n",
            " El n�mero de serie del volumen es: FE36-3AF8\n",
            "\n",
            " Directorio de c:\\Users\\jorge\\Documents\\escuela\\Intersemestralpython\n",
            "\n",
            "26/01/2022  10:27 a. m.    <DIR>          .\n",
            "26/01/2022  10:27 a. m.    <DIR>          ..\n",
            "25/01/2022  11:42 a. m.    <DIR>          .vscode\n",
            "25/01/2022  01:13 p. m.             9,393 03Diccionarios.ipynb\n",
            "25/01/2022  01:13 p. m.            18,445 04NumpyIntroduccion.ipynb\n",
            "26/01/2022  10:25 a. m.               520 a1.txt\n",
            "26/01/2022  10:29 a. m.               106 a3.txt\n",
            "25/01/2022  01:28 p. m.            94,311 evidencia1.pdf\n",
            "               5 archivos        122,775 bytes\n",
            "               3 dirs  812,865,540,096 bytes libres\n"
          ]
        }
      ],
      "source": [
        "#Lista el contenido de un directorio desde python\n",
        "%ls"
      ]
    },
    {
      "cell_type": "code",
      "execution_count": null,
      "metadata": {
        "id": "mCi2mlnDozl4",
        "outputId": "7f5b6dc4-63c7-4d90-df73-8ee8f9fb8423"
      },
      "outputs": [
        {
          "name": "stdout",
          "output_type": "stream",
          "text": [
            "6.230420704259777784e-307|4.672967463650385153e-307\n",
            "1.691210955371402370e-306|1.224399860433020584e-311\n"
          ]
        }
      ],
      "source": [
        "#Ver el contenido de un archio desde python\n",
        "%more a3.txt"
      ]
    },
    {
      "cell_type": "code",
      "execution_count": null,
      "metadata": {
        "id": "zAgEbZQ7ozl5",
        "outputId": "7ba168bd-0b53-4336-8748-1a0920c177a9"
      },
      "outputs": [
        {
          "name": "stdout",
          "output_type": "stream",
          "text": [
            "“NUMPY\u0001\u0000v\u0000{'descr': '<f8', 'fortran_order': False, 'shape': (2, 2), }                                                          \n",
            "\\\u0000?\u0000?\u0000\\\u0000C\u0000:\u0000\\\u0000U\u0000s\u0000e\u0000r\u0000s\u0000\u0000\u0000\u0000\u0001A\u0002\u0000\u0000"
          ]
        }
      ],
      "source": [
        "from os import system\n",
        "#save() Guarda un arreglo en formato binario con la extensión .npy\n",
        "np.save('a3',a3)\n",
        "%more a3.npy"
      ]
    },
    {
      "cell_type": "code",
      "execution_count": null,
      "metadata": {
        "id": "RE3kRZs0ozl5",
        "outputId": "ee5cbd67-7480-46a0-8028-772c6fcd88ec"
      },
      "outputs": [
        {
          "data": {
            "text/plain": [
              "array([[6.23042070e-307, 4.67296746e-307],\n",
              "       [1.69121096e-306, 1.22439986e-311]])"
            ]
          },
          "execution_count": 33,
          "metadata": {},
          "output_type": "execute_result"
        }
      ],
      "source": [
        "# loadtxt lee un arreglo desde un archivo de texto\n",
        "np.loadtxt('a3.txt', delimiter='|')"
      ]
    },
    {
      "cell_type": "code",
      "execution_count": null,
      "metadata": {
        "id": "KOKJaeBhozl5",
        "outputId": "8ab0caf9-e6e6-434d-a39a-1402d450bca3"
      },
      "outputs": [
        {
          "data": {
            "text/plain": [
              "array([[6.23042070e-307, 4.67296746e-307],\n",
              "       [1.69121096e-306, 1.22439986e-311]])"
            ]
          },
          "execution_count": 34,
          "metadata": {},
          "output_type": "execute_result"
        }
      ],
      "source": [
        "# load lee un arreglo desde un archivo binario\n",
        "np.load('a3.npy')"
      ]
    },
    {
      "cell_type": "code",
      "execution_count": null,
      "metadata": {
        "id": "tdimDC_Kozl6"
      },
      "outputs": [],
      "source": [
        "#savez guarda más de un arreglo en un archivo en formato binario\n",
        "np.savez('arreglos',a1,a3)"
      ]
    },
    {
      "cell_type": "code",
      "execution_count": null,
      "metadata": {
        "id": "2X-Th0hcozl6",
        "outputId": "f1f8d7cc-ed7d-4749-85d1-6446774abd28"
      },
      "outputs": [
        {
          "name": "stdout",
          "output_type": "stream",
          "text": [
            "PK\u0003\u0004\u0014\u0000\u0000\u0000\u0000\u0000\u0000\u0000!\u0000\u0007SxO \u0001\u0000\u0000 \u0001\u0000\u0000\t\u0000\u0014\u0000arr_0.npy\u0001\u0000\u0010\u0000 \u0001\u0000\u0000\u0000\u0000\u0000\u0000 \u0001\u0000\u0000\u0000\u0000\u0000\u0000“NUMPY\u0001\u0000v\u0000{'descr': '<f8', 'fortran_order': False, 'shape': (20,), }                                                           \n",
            "\u0000\u0000\u0000\u0000\u0000\u0000\u0000\u0000(¯¡¼†òª?(¯¡¼†òº?^Cy\n",
            "å5Ä?(¯¡¼†òÊ?y\n",
            "å5”×Ð?^Cy\n",
            "å5Ô?Cy\n",
            "å5”×?(¯¡¼†òÚ?\n",
            "å5”×PÞ?y\n",
            "å5”×à?l(¯¡¼†â?^Cy\n",
            "å5ä?P^Cy\n",
            "åå?Cy\n",
            "å5”ç?6”×P^Cé?(¯¡¼†òê?\u001aÊk(¯¡ì?\n",
            "å5”×Pî?\u0000\u0000\u0000\u0000\u0000\u0000ð?PK\u0003\u0004\u0014\u0000\u0000\u0000\u0000\u0000\u0000\u0000!\u0000Xþ+' \u0000\u0000\u0000 \u0000\u0000\u0000\t\u0000\u0014\u0000arr_1.npy\u0001\u0000\u0010\u0000 \u0000\u0000\u0000\u0000\u0000\u0000\u0000 \u0000\u0000\u0000\u0000\u0000\u0000\u0000“NUMPY\u0001\u0000v\u0000{'descr': '<f8', 'fortran_order': False, 'shape': (2, 2), }                                                          \n",
            "\\\u0000?\u0000?\u0000\\\u0000C\u0000:\u0000\\\u0000U\u0000s\u0000e\u0000r\u0000s\u0000\u0000\u0000\u0000\u0001A\u0002\u0000\u0000PK\u0001\u0002\u0014\u0000\u0014\u0000\u0000\u0000\u0000\u0000\u0000\u0000!\u0000\u0007SxO \u0001\u0000\u0000 \u0001\u0000\u0000\t\u0000\u0000\u0000\u0000\u0000\u0000\u0000\u0000\u0000\u0000\u0000€\u0001\u0000\u0000\u0000\u0000arr_0.npyPK\u0001\u0002\u0014\u0000\u0014\u0000\u0000\u0000\u0000\u0000\u0000\u0000!\u0000Xþ+' \u0000\u0000\u0000 \u0000\u0000\u0000\t\u0000\u0000\u0000\u0000\u0000\u0000\u0000\u0000\u0000\u0000\u0000€\u0001[\u0001\u0000\u0000arr_1.npyPK\u0005\u0006\u0000\u0000\u0000\u0000\u0002\u0000\u0002\u0000n\u0000\u0000\u00006\u0002\u0000\u0000\u0000\u0000"
          ]
        }
      ],
      "source": [
        "%more arreglos.npz"
      ]
    },
    {
      "cell_type": "code",
      "execution_count": null,
      "metadata": {
        "id": "J5qQcVWVozl7",
        "outputId": "6deeb357-8980-49d2-ff2f-7a45596c6de9"
      },
      "outputs": [
        {
          "data": {
            "text/plain": [
              "<numpy.lib.npyio.NpzFile at 0x241e9c06970>"
            ]
          },
          "execution_count": 38,
          "metadata": {},
          "output_type": "execute_result"
        }
      ],
      "source": [
        "ac=np.load('arreglos.npz')\n",
        "ac"
      ]
    },
    {
      "cell_type": "code",
      "execution_count": null,
      "metadata": {
        "id": "3uJLjPnNozl7",
        "outputId": "70ee1383-d359-41cb-999b-c116159fb713"
      },
      "outputs": [
        {
          "data": {
            "text/plain": [
              "array([0.        , 0.05263158, 0.10526316, 0.15789474, 0.21052632,\n",
              "       0.26315789, 0.31578947, 0.36842105, 0.42105263, 0.47368421,\n",
              "       0.52631579, 0.57894737, 0.63157895, 0.68421053, 0.73684211,\n",
              "       0.78947368, 0.84210526, 0.89473684, 0.94736842, 1.        ])"
            ]
          },
          "execution_count": 39,
          "metadata": {},
          "output_type": "execute_result"
        }
      ],
      "source": [
        "ac['arr_0']"
      ]
    },
    {
      "cell_type": "code",
      "execution_count": null,
      "metadata": {
        "id": "yGNkmmdgozl7",
        "outputId": "a81fd833-a4d4-43a3-c00b-53f23da18fe9"
      },
      "outputs": [
        {
          "data": {
            "text/plain": [
              "array([[6.23042070e-307, 4.67296746e-307],\n",
              "       [1.69121096e-306, 1.22439986e-311]])"
            ]
          },
          "execution_count": 40,
          "metadata": {},
          "output_type": "execute_result"
        }
      ],
      "source": [
        "ac['arr_1']"
      ]
    }
  ],
  "metadata": {
    "interpreter": {
      "hash": "2a135e850d838773d3d1f6efaa6c6727bf9613042e37d04b7d37a69382a7617b"
    },
    "kernelspec": {
      "display_name": "Python 3.9.5 64-bit",
      "language": "python",
      "name": "python3"
    },
    "language_info": {
      "codemirror_mode": {
        "name": "ipython",
        "version": 3
      },
      "file_extension": ".py",
      "mimetype": "text/x-python",
      "name": "python",
      "nbconvert_exporter": "python",
      "pygments_lexer": "ipython3",
      "version": "3.9.5"
    },
    "orig_nbformat": 4,
    "colab": {
      "name": "01NumpyIntroduccion.ipynb",
      "provenance": [],
      "include_colab_link": true
    }
  },
  "nbformat": 4,
  "nbformat_minor": 0
}